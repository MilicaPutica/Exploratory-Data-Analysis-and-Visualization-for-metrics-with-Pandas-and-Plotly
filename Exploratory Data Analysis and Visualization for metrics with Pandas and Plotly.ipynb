{
 "cells": [
  {
   "cell_type": "markdown",
   "metadata": {},
   "source": [
    "# Exploratory Data Analysis and Visualization for metrics with Pandas and Plotly"
   ]
  },
  {
   "cell_type": "markdown",
   "metadata": {},
   "source": [
    "The following example includes visualizations of a University dataset that compares several universities on metrics that convey how much they value certain variables when evaluating student applications. \n",
    "\n",
    "Values are presented on the following ordinate scale: \n",
    "0 = Not considered\n",
    "1 = Considered\n",
    "2 = Important\n",
    "3 = Very Important\n",
    "\n",
    "e.g. If a university has a value of 3 on variable \"Essay\", it means that the essay in the application process is very important for this university.\n",
    "\n",
    "Note: This data is obtained from kaggle and may not have accurate information. The data is used in this example only to demonstrate data visualization and data analysis tools that can otherwise be applied to KPIs and applicant test results."
   ]
  },
  {
   "cell_type": "code",
   "execution_count": 40,
   "metadata": {},
   "outputs": [],
   "source": [
    "import pandas as pd\n",
    "import plotly.express as px\n",
    "from plotly.subplots import make_subplots\n",
    "import plotly.graph_objects as go"
   ]
  },
  {
   "cell_type": "code",
   "execution_count": 3,
   "metadata": {},
   "outputs": [],
   "source": [
    "admission_df = pd.read_csv(\"Admission Data.csv\")"
   ]
  },
  {
   "cell_type": "code",
   "execution_count": 4,
   "metadata": {},
   "outputs": [
    {
     "data": {
      "text/html": [
       "<div>\n",
       "<style scoped>\n",
       "    .dataframe tbody tr th:only-of-type {\n",
       "        vertical-align: middle;\n",
       "    }\n",
       "\n",
       "    .dataframe tbody tr th {\n",
       "        vertical-align: top;\n",
       "    }\n",
       "\n",
       "    .dataframe thead th {\n",
       "        text-align: right;\n",
       "    }\n",
       "</style>\n",
       "<table border=\"1\" class=\"dataframe\">\n",
       "  <thead>\n",
       "    <tr style=\"text-align: right;\">\n",
       "      <th></th>\n",
       "      <th>Name of University</th>\n",
       "      <th>Rigor</th>\n",
       "      <th>Rank</th>\n",
       "      <th>GPA</th>\n",
       "      <th>Test Score</th>\n",
       "      <th>Essay</th>\n",
       "      <th>Recommendation</th>\n",
       "      <th>Interview</th>\n",
       "      <th>Extracurricular</th>\n",
       "      <th>Talent</th>\n",
       "      <th>Personality</th>\n",
       "      <th>First Generation</th>\n",
       "      <th>Religious</th>\n",
       "      <th>State Residency</th>\n",
       "      <th>Race</th>\n",
       "      <th>Volunteer</th>\n",
       "      <th>Work Experience</th>\n",
       "      <th>Level of Interest</th>\n",
       "    </tr>\n",
       "  </thead>\n",
       "  <tbody>\n",
       "    <tr>\n",
       "      <th>0</th>\n",
       "      <td>Princeton University</td>\n",
       "      <td>3</td>\n",
       "      <td>3</td>\n",
       "      <td>3</td>\n",
       "      <td>3</td>\n",
       "      <td>3</td>\n",
       "      <td>3</td>\n",
       "      <td>1</td>\n",
       "      <td>3</td>\n",
       "      <td>3</td>\n",
       "      <td>3</td>\n",
       "      <td>1</td>\n",
       "      <td>0.0</td>\n",
       "      <td>0</td>\n",
       "      <td>1</td>\n",
       "      <td>1</td>\n",
       "      <td>1</td>\n",
       "      <td>0</td>\n",
       "    </tr>\n",
       "    <tr>\n",
       "      <th>1</th>\n",
       "      <td>Brown University</td>\n",
       "      <td>3</td>\n",
       "      <td>3</td>\n",
       "      <td>3</td>\n",
       "      <td>3</td>\n",
       "      <td>3</td>\n",
       "      <td>3</td>\n",
       "      <td>1</td>\n",
       "      <td>2</td>\n",
       "      <td>3</td>\n",
       "      <td>3</td>\n",
       "      <td>1</td>\n",
       "      <td>0.0</td>\n",
       "      <td>1</td>\n",
       "      <td>1</td>\n",
       "      <td>1</td>\n",
       "      <td>1</td>\n",
       "      <td>0</td>\n",
       "    </tr>\n",
       "    <tr>\n",
       "      <th>2</th>\n",
       "      <td>California Institute of Technology (Caltech)</td>\n",
       "      <td>3</td>\n",
       "      <td>2</td>\n",
       "      <td>2</td>\n",
       "      <td>3</td>\n",
       "      <td>3</td>\n",
       "      <td>3</td>\n",
       "      <td>0</td>\n",
       "      <td>2</td>\n",
       "      <td>1</td>\n",
       "      <td>3</td>\n",
       "      <td>1</td>\n",
       "      <td>0.0</td>\n",
       "      <td>0</td>\n",
       "      <td>1</td>\n",
       "      <td>1</td>\n",
       "      <td>1</td>\n",
       "      <td>0</td>\n",
       "    </tr>\n",
       "    <tr>\n",
       "      <th>3</th>\n",
       "      <td>Cornell University</td>\n",
       "      <td>3</td>\n",
       "      <td>2</td>\n",
       "      <td>3</td>\n",
       "      <td>3</td>\n",
       "      <td>3</td>\n",
       "      <td>3</td>\n",
       "      <td>1</td>\n",
       "      <td>3</td>\n",
       "      <td>3</td>\n",
       "      <td>3</td>\n",
       "      <td>1</td>\n",
       "      <td>NaN</td>\n",
       "      <td>1</td>\n",
       "      <td>1</td>\n",
       "      <td>1</td>\n",
       "      <td>1</td>\n",
       "      <td>0</td>\n",
       "    </tr>\n",
       "    <tr>\n",
       "      <th>4</th>\n",
       "      <td>Dartmouth College</td>\n",
       "      <td>3</td>\n",
       "      <td>3</td>\n",
       "      <td>3</td>\n",
       "      <td>3</td>\n",
       "      <td>3</td>\n",
       "      <td>3</td>\n",
       "      <td>1</td>\n",
       "      <td>3</td>\n",
       "      <td>2</td>\n",
       "      <td>3</td>\n",
       "      <td>0</td>\n",
       "      <td>1.0</td>\n",
       "      <td>0</td>\n",
       "      <td>1</td>\n",
       "      <td>1</td>\n",
       "      <td>1</td>\n",
       "      <td>1</td>\n",
       "    </tr>\n",
       "    <tr>\n",
       "      <th>5</th>\n",
       "      <td>Harvard University</td>\n",
       "      <td>1</td>\n",
       "      <td>1</td>\n",
       "      <td>1</td>\n",
       "      <td>1</td>\n",
       "      <td>1</td>\n",
       "      <td>1</td>\n",
       "      <td>1</td>\n",
       "      <td>1</td>\n",
       "      <td>1</td>\n",
       "      <td>1</td>\n",
       "      <td>1</td>\n",
       "      <td>0.0</td>\n",
       "      <td>0</td>\n",
       "      <td>1</td>\n",
       "      <td>1</td>\n",
       "      <td>1</td>\n",
       "      <td>0</td>\n",
       "    </tr>\n",
       "    <tr>\n",
       "      <th>6</th>\n",
       "      <td>Massachusetts Institute of Technology (MIT)</td>\n",
       "      <td>2</td>\n",
       "      <td>1</td>\n",
       "      <td>2</td>\n",
       "      <td>2</td>\n",
       "      <td>2</td>\n",
       "      <td>2</td>\n",
       "      <td>2</td>\n",
       "      <td>2</td>\n",
       "      <td>2</td>\n",
       "      <td>1</td>\n",
       "      <td>1</td>\n",
       "      <td>0.0</td>\n",
       "      <td>0</td>\n",
       "      <td>1</td>\n",
       "      <td>1</td>\n",
       "      <td>1</td>\n",
       "      <td>0</td>\n",
       "    </tr>\n",
       "    <tr>\n",
       "      <th>7</th>\n",
       "      <td>Stanford University</td>\n",
       "      <td>3</td>\n",
       "      <td>3</td>\n",
       "      <td>3</td>\n",
       "      <td>3</td>\n",
       "      <td>3</td>\n",
       "      <td>3</td>\n",
       "      <td>1</td>\n",
       "      <td>3</td>\n",
       "      <td>3</td>\n",
       "      <td>3</td>\n",
       "      <td>1</td>\n",
       "      <td>0.0</td>\n",
       "      <td>0</td>\n",
       "      <td>1</td>\n",
       "      <td>1</td>\n",
       "      <td>1</td>\n",
       "      <td>0</td>\n",
       "    </tr>\n",
       "    <tr>\n",
       "      <th>8</th>\n",
       "      <td>University of Pennsylvania</td>\n",
       "      <td>3</td>\n",
       "      <td>2</td>\n",
       "      <td>1</td>\n",
       "      <td>1</td>\n",
       "      <td>1</td>\n",
       "      <td>1</td>\n",
       "      <td>2</td>\n",
       "      <td>2</td>\n",
       "      <td>2</td>\n",
       "      <td>3</td>\n",
       "      <td>1</td>\n",
       "      <td>0.0</td>\n",
       "      <td>1</td>\n",
       "      <td>1</td>\n",
       "      <td>1</td>\n",
       "      <td>1</td>\n",
       "      <td>1</td>\n",
       "    </tr>\n",
       "    <tr>\n",
       "      <th>9</th>\n",
       "      <td>Washington University in St. Louis (WashU)</td>\n",
       "      <td>3</td>\n",
       "      <td>3</td>\n",
       "      <td>3</td>\n",
       "      <td>3</td>\n",
       "      <td>3</td>\n",
       "      <td>3</td>\n",
       "      <td>1</td>\n",
       "      <td>2</td>\n",
       "      <td>3</td>\n",
       "      <td>3</td>\n",
       "      <td>1</td>\n",
       "      <td>0.0</td>\n",
       "      <td>0</td>\n",
       "      <td>1</td>\n",
       "      <td>2</td>\n",
       "      <td>2</td>\n",
       "      <td>1</td>\n",
       "    </tr>\n",
       "  </tbody>\n",
       "</table>\n",
       "</div>"
      ],
      "text/plain": [
       "                             Name of University  Rigor  Rank  GPA  Test Score  \\\n",
       "0                          Princeton University      3     3    3           3   \n",
       "1                              Brown University      3     3    3           3   \n",
       "2  California Institute of Technology (Caltech)      3     2    2           3   \n",
       "3                            Cornell University      3     2    3           3   \n",
       "4                             Dartmouth College      3     3    3           3   \n",
       "5                            Harvard University      1     1    1           1   \n",
       "6   Massachusetts Institute of Technology (MIT)      2     1    2           2   \n",
       "7                           Stanford University      3     3    3           3   \n",
       "8                    University of Pennsylvania      3     2    1           1   \n",
       "9    Washington University in St. Louis (WashU)      3     3    3           3   \n",
       "\n",
       "   Essay  Recommendation  Interview  Extracurricular  Talent  Personality  \\\n",
       "0      3               3          1                3       3            3   \n",
       "1      3               3          1                2       3            3   \n",
       "2      3               3          0                2       1            3   \n",
       "3      3               3          1                3       3            3   \n",
       "4      3               3          1                3       2            3   \n",
       "5      1               1          1                1       1            1   \n",
       "6      2               2          2                2       2            1   \n",
       "7      3               3          1                3       3            3   \n",
       "8      1               1          2                2       2            3   \n",
       "9      3               3          1                2       3            3   \n",
       "\n",
       "   First Generation  Religious  State Residency  Race  Volunteer  \\\n",
       "0                 1        0.0                0     1          1   \n",
       "1                 1        0.0                1     1          1   \n",
       "2                 1        0.0                0     1          1   \n",
       "3                 1        NaN                1     1          1   \n",
       "4                 0        1.0                0     1          1   \n",
       "5                 1        0.0                0     1          1   \n",
       "6                 1        0.0                0     1          1   \n",
       "7                 1        0.0                0     1          1   \n",
       "8                 1        0.0                1     1          1   \n",
       "9                 1        0.0                0     1          2   \n",
       "\n",
       "   Work Experience  Level of Interest  \n",
       "0                1                  0  \n",
       "1                1                  0  \n",
       "2                1                  0  \n",
       "3                1                  0  \n",
       "4                1                  1  \n",
       "5                1                  0  \n",
       "6                1                  0  \n",
       "7                1                  0  \n",
       "8                1                  1  \n",
       "9                2                  1  "
      ]
     },
     "execution_count": 4,
     "metadata": {},
     "output_type": "execute_result"
    }
   ],
   "source": [
    "admission_df.head(10)"
   ]
  },
  {
   "cell_type": "code",
   "execution_count": 6,
   "metadata": {},
   "outputs": [
    {
     "data": {
      "text/html": [
       "<div>\n",
       "<style scoped>\n",
       "    .dataframe tbody tr th:only-of-type {\n",
       "        vertical-align: middle;\n",
       "    }\n",
       "\n",
       "    .dataframe tbody tr th {\n",
       "        vertical-align: top;\n",
       "    }\n",
       "\n",
       "    .dataframe thead th {\n",
       "        text-align: right;\n",
       "    }\n",
       "</style>\n",
       "<table border=\"1\" class=\"dataframe\">\n",
       "  <thead>\n",
       "    <tr style=\"text-align: right;\">\n",
       "      <th></th>\n",
       "      <th>Name of University</th>\n",
       "      <th>Rigor</th>\n",
       "      <th>Rank</th>\n",
       "      <th>GPA</th>\n",
       "      <th>Test Score</th>\n",
       "      <th>Essay</th>\n",
       "      <th>Recommendation</th>\n",
       "      <th>Interview</th>\n",
       "      <th>Extracurricular</th>\n",
       "      <th>Talent</th>\n",
       "      <th>Personality</th>\n",
       "      <th>First Generation</th>\n",
       "      <th>Religious</th>\n",
       "      <th>State Residency</th>\n",
       "      <th>Race</th>\n",
       "      <th>Volunteer</th>\n",
       "      <th>Work Experience</th>\n",
       "      <th>Level of Interest</th>\n",
       "    </tr>\n",
       "  </thead>\n",
       "  <tbody>\n",
       "    <tr>\n",
       "      <th>5</th>\n",
       "      <td>Harvard University</td>\n",
       "      <td>1</td>\n",
       "      <td>1</td>\n",
       "      <td>1</td>\n",
       "      <td>1</td>\n",
       "      <td>1</td>\n",
       "      <td>1</td>\n",
       "      <td>1</td>\n",
       "      <td>1</td>\n",
       "      <td>1</td>\n",
       "      <td>1</td>\n",
       "      <td>1</td>\n",
       "      <td>0.0</td>\n",
       "      <td>0</td>\n",
       "      <td>1</td>\n",
       "      <td>1</td>\n",
       "      <td>1</td>\n",
       "      <td>0</td>\n",
       "    </tr>\n",
       "  </tbody>\n",
       "</table>\n",
       "</div>"
      ],
      "text/plain": [
       "   Name of University  Rigor  Rank  GPA  Test Score  Essay  Recommendation  \\\n",
       "5  Harvard University      1     1    1           1      1               1   \n",
       "\n",
       "   Interview  Extracurricular  Talent  Personality  First Generation  \\\n",
       "5          1                1       1            1                 1   \n",
       "\n",
       "   Religious  State Residency  Race  Volunteer  Work Experience  \\\n",
       "5        0.0                0     1          1                1   \n",
       "\n",
       "   Level of Interest  \n",
       "5                  0  "
      ]
     },
     "execution_count": 6,
     "metadata": {},
     "output_type": "execute_result"
    }
   ],
   "source": [
    "admission_df[admission_df[\"Name of University\"] == \"Harvard University\"]"
   ]
  },
  {
   "cell_type": "code",
   "execution_count": 24,
   "metadata": {},
   "outputs": [
    {
     "name": "stdout",
     "output_type": "stream",
     "text": [
      "['Princeton University' 'Brown University'\n",
      " 'California Institute of Technology (Caltech)' 'Cornell University'\n",
      " 'Dartmouth College' 'Harvard University'\n",
      " 'Massachusetts Institute of Technology (MIT)' 'Stanford University'\n",
      " 'University of Pennsylvania' 'Washington University in St. Louis (WashU)'\n",
      " 'Yale University' 'Rice University' 'Duke University'\n",
      " 'Vanderbilt University' 'Northwestern University'\n",
      " 'University of Southern California (USC)' 'University of Notre Dame'\n",
      " 'Carnegie Mellon University (CMU)' 'Georgetown University'\n",
      " 'New York University (NYU)' 'The Ohio State University (OSU)'\n",
      " 'Miami University' 'Case Western Reserve University (CWR)']\n",
      "_________________________________________________________________________\n",
      " Number of universities: 23\n"
     ]
    }
   ],
   "source": [
    "#\n",
    "print(admission_df[\"Name of University\"].unique())\n",
    "print(\"_________________________________________________________________________\")\n",
    "print(\" Number of universities: \" + str(len(admission_df[\"Name of University\"].unique())))"
   ]
  },
  {
   "cell_type": "code",
   "execution_count": 89,
   "metadata": {},
   "outputs": [
    {
     "data": {
      "application/vnd.plotly.v1+json": {
       "config": {
        "plotlyServerURL": "https://plot.ly"
       },
       "data": [
        {
         "type": "bar",
         "x": [
          "Princeton University",
          "Brown University",
          "California Institute of Technology (Caltech)",
          "Cornell University",
          "Dartmouth College",
          "Harvard University",
          "Massachusetts Institute of Technology (MIT)",
          "Stanford University",
          "University of Pennsylvania",
          "Washington University in St. Louis (WashU)",
          "Yale University",
          "Rice University",
          "Duke University",
          "Vanderbilt University",
          "Northwestern University",
          "University of Southern California (USC)",
          "University of Notre Dame",
          "Carnegie Mellon University (CMU)",
          "Georgetown University",
          "New York University (NYU)",
          "The Ohio State University (OSU)",
          "Miami University",
          "Case Western Reserve University (CWR)"
         ],
         "xaxis": "x",
         "y": [
          3,
          3,
          3,
          3,
          3,
          1,
          2,
          3,
          3,
          3,
          3,
          3,
          3,
          3,
          3,
          3,
          3,
          3,
          3,
          3,
          3,
          3,
          3
         ],
         "yaxis": "y"
        },
        {
         "type": "bar",
         "x": [
          "Princeton University",
          "Brown University",
          "California Institute of Technology (Caltech)",
          "Cornell University",
          "Dartmouth College",
          "Harvard University",
          "Massachusetts Institute of Technology (MIT)",
          "Stanford University",
          "University of Pennsylvania",
          "Washington University in St. Louis (WashU)",
          "Yale University",
          "Rice University",
          "Duke University",
          "Vanderbilt University",
          "Northwestern University",
          "University of Southern California (USC)",
          "University of Notre Dame",
          "Carnegie Mellon University (CMU)",
          "Georgetown University",
          "New York University (NYU)",
          "The Ohio State University (OSU)",
          "Miami University",
          "Case Western Reserve University (CWR)"
         ],
         "xaxis": "x2",
         "y": [
          3,
          3,
          2,
          2,
          3,
          1,
          1,
          3,
          2,
          3,
          3,
          3,
          3,
          3,
          3,
          0,
          2,
          3,
          3,
          3,
          3,
          3,
          3
         ],
         "yaxis": "y2"
        },
        {
         "type": "bar",
         "x": [
          "Princeton University",
          "Brown University",
          "California Institute of Technology (Caltech)",
          "Cornell University",
          "Dartmouth College",
          "Harvard University",
          "Massachusetts Institute of Technology (MIT)",
          "Stanford University",
          "University of Pennsylvania",
          "Washington University in St. Louis (WashU)",
          "Yale University",
          "Rice University",
          "Duke University",
          "Vanderbilt University",
          "Northwestern University",
          "University of Southern California (USC)",
          "University of Notre Dame",
          "Carnegie Mellon University (CMU)",
          "Georgetown University",
          "New York University (NYU)",
          "The Ohio State University (OSU)",
          "Miami University",
          "Case Western Reserve University (CWR)"
         ],
         "xaxis": "x3",
         "y": [
          3,
          3,
          2,
          3,
          3,
          1,
          2,
          3,
          1,
          3,
          3,
          3,
          3,
          3,
          3,
          3,
          2,
          3,
          3,
          3,
          3,
          3,
          3
         ],
         "yaxis": "y3"
        },
        {
         "type": "bar",
         "x": [
          "Princeton University",
          "Brown University",
          "California Institute of Technology (Caltech)",
          "Cornell University",
          "Dartmouth College",
          "Harvard University",
          "Massachusetts Institute of Technology (MIT)",
          "Stanford University",
          "University of Pennsylvania",
          "Washington University in St. Louis (WashU)",
          "Yale University",
          "Rice University",
          "Duke University",
          "Vanderbilt University",
          "Northwestern University",
          "University of Southern California (USC)",
          "University of Notre Dame",
          "Carnegie Mellon University (CMU)",
          "Georgetown University",
          "New York University (NYU)",
          "The Ohio State University (OSU)",
          "Miami University",
          "Case Western Reserve University (CWR)"
         ],
         "xaxis": "x4",
         "y": [
          3,
          3,
          3,
          3,
          3,
          1,
          2,
          3,
          1,
          3,
          1,
          3,
          3,
          3,
          1,
          3,
          1,
          2,
          3,
          3,
          2,
          3,
          1
         ],
         "yaxis": "y4"
        },
        {
         "type": "bar",
         "x": [
          "Princeton University",
          "Brown University",
          "California Institute of Technology (Caltech)",
          "Cornell University",
          "Dartmouth College",
          "Harvard University",
          "Massachusetts Institute of Technology (MIT)",
          "Stanford University",
          "University of Pennsylvania",
          "Washington University in St. Louis (WashU)",
          "Yale University",
          "Rice University",
          "Duke University",
          "Vanderbilt University",
          "Northwestern University",
          "University of Southern California (USC)",
          "University of Notre Dame",
          "Carnegie Mellon University (CMU)",
          "Georgetown University",
          "New York University (NYU)",
          "The Ohio State University (OSU)",
          "Miami University",
          "Case Western Reserve University (CWR)"
         ],
         "xaxis": "x5",
         "y": [
          3,
          3,
          3,
          3,
          3,
          1,
          2,
          3,
          1,
          3,
          3,
          3,
          3,
          3,
          2,
          3,
          2,
          2,
          3,
          2,
          1,
          3,
          2
         ],
         "yaxis": "y5"
        },
        {
         "type": "bar",
         "x": [
          "Princeton University",
          "Brown University",
          "California Institute of Technology (Caltech)",
          "Cornell University",
          "Dartmouth College",
          "Harvard University",
          "Massachusetts Institute of Technology (MIT)",
          "Stanford University",
          "University of Pennsylvania",
          "Washington University in St. Louis (WashU)",
          "Yale University",
          "Rice University",
          "Duke University",
          "Vanderbilt University",
          "Northwestern University",
          "University of Southern California (USC)",
          "University of Notre Dame",
          "Carnegie Mellon University (CMU)",
          "Georgetown University",
          "New York University (NYU)",
          "The Ohio State University (OSU)",
          "Miami University",
          "Case Western Reserve University (CWR)"
         ],
         "xaxis": "x6",
         "y": [
          3,
          3,
          3,
          3,
          3,
          1,
          2,
          3,
          1,
          3,
          3,
          3,
          3,
          2,
          2,
          3,
          2,
          2,
          3,
          2,
          1,
          3,
          2
         ],
         "yaxis": "y6"
        },
        {
         "type": "bar",
         "x": [
          "Princeton University",
          "Brown University",
          "California Institute of Technology (Caltech)",
          "Cornell University",
          "Dartmouth College",
          "Harvard University",
          "Massachusetts Institute of Technology (MIT)",
          "Stanford University",
          "University of Pennsylvania",
          "Washington University in St. Louis (WashU)",
          "Yale University",
          "Rice University",
          "Duke University",
          "Vanderbilt University",
          "Northwestern University",
          "University of Southern California (USC)",
          "University of Notre Dame",
          "Carnegie Mellon University (CMU)",
          "Georgetown University",
          "New York University (NYU)",
          "The Ohio State University (OSU)",
          "Miami University",
          "Case Western Reserve University (CWR)"
         ],
         "xaxis": "x7",
         "y": [
          1,
          1,
          0,
          1,
          1,
          1,
          2,
          1,
          2,
          1,
          1,
          1,
          1,
          1,
          1,
          0,
          0,
          0,
          2,
          1,
          0,
          0,
          2
         ],
         "yaxis": "y7"
        },
        {
         "type": "bar",
         "x": [
          "Princeton University",
          "Brown University",
          "California Institute of Technology (Caltech)",
          "Cornell University",
          "Dartmouth College",
          "Harvard University",
          "Massachusetts Institute of Technology (MIT)",
          "Stanford University",
          "University of Pennsylvania",
          "Washington University in St. Louis (WashU)",
          "Yale University",
          "Rice University",
          "Duke University",
          "Vanderbilt University",
          "Northwestern University",
          "University of Southern California (USC)",
          "University of Notre Dame",
          "Carnegie Mellon University (CMU)",
          "Georgetown University",
          "New York University (NYU)",
          "The Ohio State University (OSU)",
          "Miami University",
          "Case Western Reserve University (CWR)"
         ],
         "xaxis": "x8",
         "y": [
          3,
          2,
          2,
          3,
          3,
          1,
          2,
          3,
          2,
          2,
          3,
          3,
          3,
          3,
          2,
          2,
          2,
          1,
          2,
          2,
          2,
          1,
          1
         ],
         "yaxis": "y8"
        },
        {
         "type": "bar",
         "x": [
          "Princeton University",
          "Brown University",
          "California Institute of Technology (Caltech)",
          "Cornell University",
          "Dartmouth College",
          "Harvard University",
          "Massachusetts Institute of Technology (MIT)",
          "Stanford University",
          "University of Pennsylvania",
          "Washington University in St. Louis (WashU)",
          "Yale University",
          "Rice University",
          "Duke University",
          "Vanderbilt University",
          "Northwestern University",
          "University of Southern California (USC)",
          "University of Notre Dame",
          "Carnegie Mellon University (CMU)",
          "Georgetown University",
          "New York University (NYU)",
          "The Ohio State University (OSU)",
          "Miami University",
          "Case Western Reserve University (CWR)"
         ],
         "xaxis": "x9",
         "y": [
          3,
          3,
          1,
          3,
          2,
          1,
          2,
          3,
          2,
          3,
          3,
          3,
          3,
          1,
          2,
          2,
          2,
          2,
          3,
          3,
          2,
          3,
          2
         ],
         "yaxis": "y9"
        },
        {
         "type": "bar",
         "x": [
          "Princeton University",
          "Brown University",
          "California Institute of Technology (Caltech)",
          "Cornell University",
          "Dartmouth College",
          "Harvard University",
          "Massachusetts Institute of Technology (MIT)",
          "Stanford University",
          "University of Pennsylvania",
          "Washington University in St. Louis (WashU)",
          "Yale University",
          "Rice University",
          "Duke University",
          "Vanderbilt University",
          "Northwestern University",
          "University of Southern California (USC)",
          "University of Notre Dame",
          "Carnegie Mellon University (CMU)",
          "Georgetown University",
          "New York University (NYU)",
          "The Ohio State University (OSU)",
          "Miami University",
          "Case Western Reserve University (CWR)"
         ],
         "xaxis": "x10",
         "y": [
          3,
          3,
          3,
          3,
          3,
          1,
          1,
          3,
          3,
          3,
          3,
          3,
          3,
          3,
          2,
          2,
          3,
          2,
          3,
          2,
          1,
          3,
          2
         ],
         "yaxis": "y10"
        },
        {
         "type": "bar",
         "x": [
          "Princeton University",
          "Brown University",
          "California Institute of Technology (Caltech)",
          "Cornell University",
          "Dartmouth College",
          "Harvard University",
          "Massachusetts Institute of Technology (MIT)",
          "Stanford University",
          "University of Pennsylvania",
          "Washington University in St. Louis (WashU)",
          "Yale University",
          "Rice University",
          "Duke University",
          "Vanderbilt University",
          "Northwestern University",
          "University of Southern California (USC)",
          "University of Notre Dame",
          "Carnegie Mellon University (CMU)",
          "Georgetown University",
          "New York University (NYU)",
          "The Ohio State University (OSU)",
          "Miami University",
          "Case Western Reserve University (CWR)"
         ],
         "xaxis": "x11",
         "y": [
          1,
          1,
          1,
          1,
          0,
          1,
          1,
          1,
          1,
          1,
          1,
          1,
          1,
          1,
          1,
          1,
          2,
          2,
          1,
          1,
          2,
          1,
          1
         ],
         "yaxis": "y11"
        },
        {
         "type": "bar",
         "x": [
          "Princeton University",
          "Brown University",
          "California Institute of Technology (Caltech)",
          "Cornell University",
          "Dartmouth College",
          "Harvard University",
          "Massachusetts Institute of Technology (MIT)",
          "Stanford University",
          "University of Pennsylvania",
          "Washington University in St. Louis (WashU)",
          "Yale University",
          "Rice University",
          "Duke University",
          "Vanderbilt University",
          "Northwestern University",
          "University of Southern California (USC)",
          "University of Notre Dame",
          "Carnegie Mellon University (CMU)",
          "Georgetown University",
          "New York University (NYU)",
          "The Ohio State University (OSU)",
          "Miami University",
          "Case Western Reserve University (CWR)"
         ],
         "xaxis": "x12",
         "y": [
          0,
          0,
          0,
          null,
          1,
          0,
          0,
          0,
          0,
          0,
          0,
          0,
          1,
          0,
          0,
          0,
          1,
          0,
          0,
          0,
          0,
          1,
          0
         ],
         "yaxis": "y12"
        },
        {
         "type": "bar",
         "x": [
          "Princeton University",
          "Brown University",
          "California Institute of Technology (Caltech)",
          "Cornell University",
          "Dartmouth College",
          "Harvard University",
          "Massachusetts Institute of Technology (MIT)",
          "Stanford University",
          "University of Pennsylvania",
          "Washington University in St. Louis (WashU)",
          "Yale University",
          "Rice University",
          "Duke University",
          "Vanderbilt University",
          "Northwestern University",
          "University of Southern California (USC)",
          "University of Notre Dame",
          "Carnegie Mellon University (CMU)",
          "Georgetown University",
          "New York University (NYU)",
          "The Ohio State University (OSU)",
          "Miami University",
          "Case Western Reserve University (CWR)"
         ],
         "xaxis": "x13",
         "y": [
          0,
          1,
          0,
          1,
          0,
          0,
          0,
          0,
          1,
          0,
          1,
          1,
          1,
          1,
          0,
          0,
          0,
          0,
          1,
          0,
          1,
          1,
          0
         ],
         "yaxis": "y13"
        },
        {
         "type": "bar",
         "x": [
          "Princeton University",
          "Brown University",
          "California Institute of Technology (Caltech)",
          "Cornell University",
          "Dartmouth College",
          "Harvard University",
          "Massachusetts Institute of Technology (MIT)",
          "Stanford University",
          "University of Pennsylvania",
          "Washington University in St. Louis (WashU)",
          "Yale University",
          "Rice University",
          "Duke University",
          "Vanderbilt University",
          "Northwestern University",
          "University of Southern California (USC)",
          "University of Notre Dame",
          "Carnegie Mellon University (CMU)",
          "Georgetown University",
          "New York University (NYU)",
          "The Ohio State University (OSU)",
          "Miami University",
          "Case Western Reserve University (CWR)"
         ],
         "xaxis": "x14",
         "y": [
          1,
          1,
          1,
          1,
          1,
          1,
          1,
          1,
          1,
          1,
          1,
          1,
          1,
          1,
          1,
          1,
          2,
          2,
          1,
          1,
          1,
          0,
          2
         ],
         "yaxis": "y14"
        },
        {
         "type": "bar",
         "x": [
          "Princeton University",
          "Brown University",
          "California Institute of Technology (Caltech)",
          "Cornell University",
          "Dartmouth College",
          "Harvard University",
          "Massachusetts Institute of Technology (MIT)",
          "Stanford University",
          "University of Pennsylvania",
          "Washington University in St. Louis (WashU)",
          "Yale University",
          "Rice University",
          "Duke University",
          "Vanderbilt University",
          "Northwestern University",
          "University of Southern California (USC)",
          "University of Notre Dame",
          "Carnegie Mellon University (CMU)",
          "Georgetown University",
          "New York University (NYU)",
          "The Ohio State University (OSU)",
          "Miami University",
          "Case Western Reserve University (CWR)"
         ],
         "xaxis": "x15",
         "y": [
          1,
          1,
          1,
          1,
          1,
          1,
          1,
          1,
          1,
          2,
          1,
          1,
          1,
          1,
          1,
          1,
          2,
          3,
          1,
          1,
          2,
          1,
          2
         ],
         "yaxis": "y15"
        },
        {
         "type": "bar",
         "x": [
          "Princeton University",
          "Brown University",
          "California Institute of Technology (Caltech)",
          "Cornell University",
          "Dartmouth College",
          "Harvard University",
          "Massachusetts Institute of Technology (MIT)",
          "Stanford University",
          "University of Pennsylvania",
          "Washington University in St. Louis (WashU)",
          "Yale University",
          "Rice University",
          "Duke University",
          "Vanderbilt University",
          "Northwestern University",
          "University of Southern California (USC)",
          "University of Notre Dame",
          "Carnegie Mellon University (CMU)",
          "Georgetown University",
          "New York University (NYU)",
          "The Ohio State University (OSU)",
          "Miami University",
          "Case Western Reserve University (CWR)"
         ],
         "xaxis": "x16",
         "y": [
          1,
          1,
          1,
          1,
          1,
          1,
          1,
          1,
          1,
          2,
          1,
          1,
          1,
          1,
          1,
          1,
          1,
          3,
          1,
          1,
          2,
          1,
          1
         ],
         "yaxis": "y16"
        },
        {
         "type": "bar",
         "x": [
          "Princeton University",
          "Brown University",
          "California Institute of Technology (Caltech)",
          "Cornell University",
          "Dartmouth College",
          "Harvard University",
          "Massachusetts Institute of Technology (MIT)",
          "Stanford University",
          "University of Pennsylvania",
          "Washington University in St. Louis (WashU)",
          "Yale University",
          "Rice University",
          "Duke University",
          "Vanderbilt University",
          "Northwestern University",
          "University of Southern California (USC)",
          "University of Notre Dame",
          "Carnegie Mellon University (CMU)",
          "Georgetown University",
          "New York University (NYU)",
          "The Ohio State University (OSU)",
          "Miami University",
          "Case Western Reserve University (CWR)"
         ],
         "xaxis": "x17",
         "y": [
          0,
          0,
          0,
          0,
          1,
          0,
          0,
          0,
          1,
          1,
          0,
          1,
          1,
          0,
          1,
          0,
          1,
          0,
          0,
          1,
          0,
          0,
          1
         ],
         "yaxis": "y17"
        }
       ],
       "layout": {
        "height": 9000,
        "template": {
         "data": {
          "bar": [
           {
            "error_x": {
             "color": "#2a3f5f"
            },
            "error_y": {
             "color": "#2a3f5f"
            },
            "marker": {
             "line": {
              "color": "#E5ECF6",
              "width": 0.5
             },
             "pattern": {
              "fillmode": "overlay",
              "size": 10,
              "solidity": 0.2
             }
            },
            "type": "bar"
           }
          ],
          "barpolar": [
           {
            "marker": {
             "line": {
              "color": "#E5ECF6",
              "width": 0.5
             },
             "pattern": {
              "fillmode": "overlay",
              "size": 10,
              "solidity": 0.2
             }
            },
            "type": "barpolar"
           }
          ],
          "carpet": [
           {
            "aaxis": {
             "endlinecolor": "#2a3f5f",
             "gridcolor": "white",
             "linecolor": "white",
             "minorgridcolor": "white",
             "startlinecolor": "#2a3f5f"
            },
            "baxis": {
             "endlinecolor": "#2a3f5f",
             "gridcolor": "white",
             "linecolor": "white",
             "minorgridcolor": "white",
             "startlinecolor": "#2a3f5f"
            },
            "type": "carpet"
           }
          ],
          "choropleth": [
           {
            "colorbar": {
             "outlinewidth": 0,
             "ticks": ""
            },
            "type": "choropleth"
           }
          ],
          "contour": [
           {
            "colorbar": {
             "outlinewidth": 0,
             "ticks": ""
            },
            "colorscale": [
             [
              0,
              "#0d0887"
             ],
             [
              0.1111111111111111,
              "#46039f"
             ],
             [
              0.2222222222222222,
              "#7201a8"
             ],
             [
              0.3333333333333333,
              "#9c179e"
             ],
             [
              0.4444444444444444,
              "#bd3786"
             ],
             [
              0.5555555555555556,
              "#d8576b"
             ],
             [
              0.6666666666666666,
              "#ed7953"
             ],
             [
              0.7777777777777778,
              "#fb9f3a"
             ],
             [
              0.8888888888888888,
              "#fdca26"
             ],
             [
              1,
              "#f0f921"
             ]
            ],
            "type": "contour"
           }
          ],
          "contourcarpet": [
           {
            "colorbar": {
             "outlinewidth": 0,
             "ticks": ""
            },
            "type": "contourcarpet"
           }
          ],
          "heatmap": [
           {
            "colorbar": {
             "outlinewidth": 0,
             "ticks": ""
            },
            "colorscale": [
             [
              0,
              "#0d0887"
             ],
             [
              0.1111111111111111,
              "#46039f"
             ],
             [
              0.2222222222222222,
              "#7201a8"
             ],
             [
              0.3333333333333333,
              "#9c179e"
             ],
             [
              0.4444444444444444,
              "#bd3786"
             ],
             [
              0.5555555555555556,
              "#d8576b"
             ],
             [
              0.6666666666666666,
              "#ed7953"
             ],
             [
              0.7777777777777778,
              "#fb9f3a"
             ],
             [
              0.8888888888888888,
              "#fdca26"
             ],
             [
              1,
              "#f0f921"
             ]
            ],
            "type": "heatmap"
           }
          ],
          "heatmapgl": [
           {
            "colorbar": {
             "outlinewidth": 0,
             "ticks": ""
            },
            "colorscale": [
             [
              0,
              "#0d0887"
             ],
             [
              0.1111111111111111,
              "#46039f"
             ],
             [
              0.2222222222222222,
              "#7201a8"
             ],
             [
              0.3333333333333333,
              "#9c179e"
             ],
             [
              0.4444444444444444,
              "#bd3786"
             ],
             [
              0.5555555555555556,
              "#d8576b"
             ],
             [
              0.6666666666666666,
              "#ed7953"
             ],
             [
              0.7777777777777778,
              "#fb9f3a"
             ],
             [
              0.8888888888888888,
              "#fdca26"
             ],
             [
              1,
              "#f0f921"
             ]
            ],
            "type": "heatmapgl"
           }
          ],
          "histogram": [
           {
            "marker": {
             "pattern": {
              "fillmode": "overlay",
              "size": 10,
              "solidity": 0.2
             }
            },
            "type": "histogram"
           }
          ],
          "histogram2d": [
           {
            "colorbar": {
             "outlinewidth": 0,
             "ticks": ""
            },
            "colorscale": [
             [
              0,
              "#0d0887"
             ],
             [
              0.1111111111111111,
              "#46039f"
             ],
             [
              0.2222222222222222,
              "#7201a8"
             ],
             [
              0.3333333333333333,
              "#9c179e"
             ],
             [
              0.4444444444444444,
              "#bd3786"
             ],
             [
              0.5555555555555556,
              "#d8576b"
             ],
             [
              0.6666666666666666,
              "#ed7953"
             ],
             [
              0.7777777777777778,
              "#fb9f3a"
             ],
             [
              0.8888888888888888,
              "#fdca26"
             ],
             [
              1,
              "#f0f921"
             ]
            ],
            "type": "histogram2d"
           }
          ],
          "histogram2dcontour": [
           {
            "colorbar": {
             "outlinewidth": 0,
             "ticks": ""
            },
            "colorscale": [
             [
              0,
              "#0d0887"
             ],
             [
              0.1111111111111111,
              "#46039f"
             ],
             [
              0.2222222222222222,
              "#7201a8"
             ],
             [
              0.3333333333333333,
              "#9c179e"
             ],
             [
              0.4444444444444444,
              "#bd3786"
             ],
             [
              0.5555555555555556,
              "#d8576b"
             ],
             [
              0.6666666666666666,
              "#ed7953"
             ],
             [
              0.7777777777777778,
              "#fb9f3a"
             ],
             [
              0.8888888888888888,
              "#fdca26"
             ],
             [
              1,
              "#f0f921"
             ]
            ],
            "type": "histogram2dcontour"
           }
          ],
          "mesh3d": [
           {
            "colorbar": {
             "outlinewidth": 0,
             "ticks": ""
            },
            "type": "mesh3d"
           }
          ],
          "parcoords": [
           {
            "line": {
             "colorbar": {
              "outlinewidth": 0,
              "ticks": ""
             }
            },
            "type": "parcoords"
           }
          ],
          "pie": [
           {
            "automargin": true,
            "type": "pie"
           }
          ],
          "scatter": [
           {
            "fillpattern": {
             "fillmode": "overlay",
             "size": 10,
             "solidity": 0.2
            },
            "type": "scatter"
           }
          ],
          "scatter3d": [
           {
            "line": {
             "colorbar": {
              "outlinewidth": 0,
              "ticks": ""
             }
            },
            "marker": {
             "colorbar": {
              "outlinewidth": 0,
              "ticks": ""
             }
            },
            "type": "scatter3d"
           }
          ],
          "scattercarpet": [
           {
            "marker": {
             "colorbar": {
              "outlinewidth": 0,
              "ticks": ""
             }
            },
            "type": "scattercarpet"
           }
          ],
          "scattergeo": [
           {
            "marker": {
             "colorbar": {
              "outlinewidth": 0,
              "ticks": ""
             }
            },
            "type": "scattergeo"
           }
          ],
          "scattergl": [
           {
            "marker": {
             "colorbar": {
              "outlinewidth": 0,
              "ticks": ""
             }
            },
            "type": "scattergl"
           }
          ],
          "scattermapbox": [
           {
            "marker": {
             "colorbar": {
              "outlinewidth": 0,
              "ticks": ""
             }
            },
            "type": "scattermapbox"
           }
          ],
          "scatterpolar": [
           {
            "marker": {
             "colorbar": {
              "outlinewidth": 0,
              "ticks": ""
             }
            },
            "type": "scatterpolar"
           }
          ],
          "scatterpolargl": [
           {
            "marker": {
             "colorbar": {
              "outlinewidth": 0,
              "ticks": ""
             }
            },
            "type": "scatterpolargl"
           }
          ],
          "scatterternary": [
           {
            "marker": {
             "colorbar": {
              "outlinewidth": 0,
              "ticks": ""
             }
            },
            "type": "scatterternary"
           }
          ],
          "surface": [
           {
            "colorbar": {
             "outlinewidth": 0,
             "ticks": ""
            },
            "colorscale": [
             [
              0,
              "#0d0887"
             ],
             [
              0.1111111111111111,
              "#46039f"
             ],
             [
              0.2222222222222222,
              "#7201a8"
             ],
             [
              0.3333333333333333,
              "#9c179e"
             ],
             [
              0.4444444444444444,
              "#bd3786"
             ],
             [
              0.5555555555555556,
              "#d8576b"
             ],
             [
              0.6666666666666666,
              "#ed7953"
             ],
             [
              0.7777777777777778,
              "#fb9f3a"
             ],
             [
              0.8888888888888888,
              "#fdca26"
             ],
             [
              1,
              "#f0f921"
             ]
            ],
            "type": "surface"
           }
          ],
          "table": [
           {
            "cells": {
             "fill": {
              "color": "#EBF0F8"
             },
             "line": {
              "color": "white"
             }
            },
            "header": {
             "fill": {
              "color": "#C8D4E3"
             },
             "line": {
              "color": "white"
             }
            },
            "type": "table"
           }
          ]
         },
         "layout": {
          "annotationdefaults": {
           "arrowcolor": "#2a3f5f",
           "arrowhead": 0,
           "arrowwidth": 1
          },
          "autotypenumbers": "strict",
          "coloraxis": {
           "colorbar": {
            "outlinewidth": 0,
            "ticks": ""
           }
          },
          "colorscale": {
           "diverging": [
            [
             0,
             "#8e0152"
            ],
            [
             0.1,
             "#c51b7d"
            ],
            [
             0.2,
             "#de77ae"
            ],
            [
             0.3,
             "#f1b6da"
            ],
            [
             0.4,
             "#fde0ef"
            ],
            [
             0.5,
             "#f7f7f7"
            ],
            [
             0.6,
             "#e6f5d0"
            ],
            [
             0.7,
             "#b8e186"
            ],
            [
             0.8,
             "#7fbc41"
            ],
            [
             0.9,
             "#4d9221"
            ],
            [
             1,
             "#276419"
            ]
           ],
           "sequential": [
            [
             0,
             "#0d0887"
            ],
            [
             0.1111111111111111,
             "#46039f"
            ],
            [
             0.2222222222222222,
             "#7201a8"
            ],
            [
             0.3333333333333333,
             "#9c179e"
            ],
            [
             0.4444444444444444,
             "#bd3786"
            ],
            [
             0.5555555555555556,
             "#d8576b"
            ],
            [
             0.6666666666666666,
             "#ed7953"
            ],
            [
             0.7777777777777778,
             "#fb9f3a"
            ],
            [
             0.8888888888888888,
             "#fdca26"
            ],
            [
             1,
             "#f0f921"
            ]
           ],
           "sequentialminus": [
            [
             0,
             "#0d0887"
            ],
            [
             0.1111111111111111,
             "#46039f"
            ],
            [
             0.2222222222222222,
             "#7201a8"
            ],
            [
             0.3333333333333333,
             "#9c179e"
            ],
            [
             0.4444444444444444,
             "#bd3786"
            ],
            [
             0.5555555555555556,
             "#d8576b"
            ],
            [
             0.6666666666666666,
             "#ed7953"
            ],
            [
             0.7777777777777778,
             "#fb9f3a"
            ],
            [
             0.8888888888888888,
             "#fdca26"
            ],
            [
             1,
             "#f0f921"
            ]
           ]
          },
          "colorway": [
           "#636efa",
           "#EF553B",
           "#00cc96",
           "#ab63fa",
           "#FFA15A",
           "#19d3f3",
           "#FF6692",
           "#B6E880",
           "#FF97FF",
           "#FECB52"
          ],
          "font": {
           "color": "#2a3f5f"
          },
          "geo": {
           "bgcolor": "white",
           "lakecolor": "white",
           "landcolor": "#E5ECF6",
           "showlakes": true,
           "showland": true,
           "subunitcolor": "white"
          },
          "hoverlabel": {
           "align": "left"
          },
          "hovermode": "closest",
          "mapbox": {
           "style": "light"
          },
          "paper_bgcolor": "white",
          "plot_bgcolor": "#E5ECF6",
          "polar": {
           "angularaxis": {
            "gridcolor": "white",
            "linecolor": "white",
            "ticks": ""
           },
           "bgcolor": "#E5ECF6",
           "radialaxis": {
            "gridcolor": "white",
            "linecolor": "white",
            "ticks": ""
           }
          },
          "scene": {
           "xaxis": {
            "backgroundcolor": "#E5ECF6",
            "gridcolor": "white",
            "gridwidth": 2,
            "linecolor": "white",
            "showbackground": true,
            "ticks": "",
            "zerolinecolor": "white"
           },
           "yaxis": {
            "backgroundcolor": "#E5ECF6",
            "gridcolor": "white",
            "gridwidth": 2,
            "linecolor": "white",
            "showbackground": true,
            "ticks": "",
            "zerolinecolor": "white"
           },
           "zaxis": {
            "backgroundcolor": "#E5ECF6",
            "gridcolor": "white",
            "gridwidth": 2,
            "linecolor": "white",
            "showbackground": true,
            "ticks": "",
            "zerolinecolor": "white"
           }
          },
          "shapedefaults": {
           "line": {
            "color": "#2a3f5f"
           }
          },
          "ternary": {
           "aaxis": {
            "gridcolor": "white",
            "linecolor": "white",
            "ticks": ""
           },
           "baxis": {
            "gridcolor": "white",
            "linecolor": "white",
            "ticks": ""
           },
           "bgcolor": "#E5ECF6",
           "caxis": {
            "gridcolor": "white",
            "linecolor": "white",
            "ticks": ""
           }
          },
          "title": {
           "x": 0.05
          },
          "xaxis": {
           "automargin": true,
           "gridcolor": "white",
           "linecolor": "white",
           "ticks": "",
           "title": {
            "standoff": 15
           },
           "zerolinecolor": "white",
           "zerolinewidth": 2
          },
          "yaxis": {
           "automargin": true,
           "gridcolor": "white",
           "linecolor": "white",
           "ticks": "",
           "title": {
            "standoff": 15
           },
           "zerolinecolor": "white",
           "zerolinewidth": 2
          }
         }
        },
        "title": {
         "text": "Universities compared on each metric from the dataset"
        },
        "width": 1000,
        "xaxis": {
         "anchor": "y",
         "domain": [
          0,
          1
         ]
        },
        "xaxis10": {
         "anchor": "y10",
         "domain": [
          0,
          1
         ]
        },
        "xaxis11": {
         "anchor": "y11",
         "domain": [
          0,
          1
         ]
        },
        "xaxis12": {
         "anchor": "y12",
         "domain": [
          0,
          1
         ]
        },
        "xaxis13": {
         "anchor": "y13",
         "domain": [
          0,
          1
         ]
        },
        "xaxis14": {
         "anchor": "y14",
         "domain": [
          0,
          1
         ]
        },
        "xaxis15": {
         "anchor": "y15",
         "domain": [
          0,
          1
         ]
        },
        "xaxis16": {
         "anchor": "y16",
         "domain": [
          0,
          1
         ]
        },
        "xaxis17": {
         "anchor": "y17",
         "domain": [
          0,
          1
         ]
        },
        "xaxis2": {
         "anchor": "y2",
         "domain": [
          0,
          1
         ]
        },
        "xaxis3": {
         "anchor": "y3",
         "domain": [
          0,
          1
         ]
        },
        "xaxis4": {
         "anchor": "y4",
         "domain": [
          0,
          1
         ]
        },
        "xaxis5": {
         "anchor": "y5",
         "domain": [
          0,
          1
         ]
        },
        "xaxis6": {
         "anchor": "y6",
         "domain": [
          0,
          1
         ]
        },
        "xaxis7": {
         "anchor": "y7",
         "domain": [
          0,
          1
         ]
        },
        "xaxis8": {
         "anchor": "y8",
         "domain": [
          0,
          1
         ]
        },
        "xaxis9": {
         "anchor": "y9",
         "domain": [
          0,
          1
         ]
        },
        "yaxis": {
         "anchor": "x",
         "domain": [
          0.9577854671280275,
          0.9999999999999998
         ],
         "title": {
          "text": "Rigor"
         }
        },
        "yaxis10": {
         "anchor": "x10",
         "domain": [
          0.4190311418685121,
          0.4612456747404844
         ],
         "title": {
          "text": "Talent"
         }
        },
        "yaxis11": {
         "anchor": "x11",
         "domain": [
          0.3591695501730104,
          0.4013840830449827
         ],
         "title": {
          "text": "Personality"
         }
        },
        "yaxis12": {
         "anchor": "x12",
         "domain": [
          0.2993079584775087,
          0.341522491349481
         ],
         "title": {
          "text": "First Generation"
         }
        },
        "yaxis13": {
         "anchor": "x13",
         "domain": [
          0.23944636678200693,
          0.2816608996539792
         ],
         "title": {
          "text": "Religious"
         }
        },
        "yaxis14": {
         "anchor": "x14",
         "domain": [
          0.1795847750865052,
          0.22179930795847752
         ],
         "title": {
          "text": "State Residency"
         }
        },
        "yaxis15": {
         "anchor": "x15",
         "domain": [
          0.11972318339100346,
          0.1619377162629758
         ],
         "title": {
          "text": "Race"
         }
        },
        "yaxis16": {
         "anchor": "x16",
         "domain": [
          0.05986159169550173,
          0.10207612456747406
         ]
        },
        "yaxis17": {
         "anchor": "x17",
         "domain": [
          0,
          0.04221453287197232
         ]
        },
        "yaxis2": {
         "anchor": "x2",
         "domain": [
          0.8979238754325258,
          0.9401384083044981
         ],
         "title": {
          "text": "Rigor"
         }
        },
        "yaxis3": {
         "anchor": "x3",
         "domain": [
          0.8380622837370241,
          0.8802768166089964
         ],
         "title": {
          "text": "Rank"
         }
        },
        "yaxis4": {
         "anchor": "x4",
         "domain": [
          0.7782006920415223,
          0.8204152249134946
         ],
         "title": {
          "text": "GPA"
         }
        },
        "yaxis5": {
         "anchor": "x5",
         "domain": [
          0.7183391003460207,
          0.760553633217993
         ],
         "title": {
          "text": "Test Score"
         }
        },
        "yaxis6": {
         "anchor": "x6",
         "domain": [
          0.6584775086505189,
          0.7006920415224912
         ],
         "title": {
          "text": "Essay"
         }
        },
        "yaxis7": {
         "anchor": "x7",
         "domain": [
          0.5986159169550171,
          0.6408304498269894
         ],
         "title": {
          "text": "Recommendation"
         }
        },
        "yaxis8": {
         "anchor": "x8",
         "domain": [
          0.5387543252595155,
          0.5809688581314878
         ],
         "title": {
          "text": "Interview"
         }
        },
        "yaxis9": {
         "anchor": "x9",
         "domain": [
          0.4788927335640138,
          0.5211072664359861
         ],
         "title": {
          "text": "Extracurricular"
         }
        }
       }
      },
      "text/html": [
       "<div>                            <div id=\"8fb8f5b9-db4a-4648-8792-947fa113e90e\" class=\"plotly-graph-div\" style=\"height:9000px; width:1000px;\"></div>            <script type=\"text/javascript\">                require([\"plotly\"], function(Plotly) {                    window.PLOTLYENV=window.PLOTLYENV || {};                                    if (document.getElementById(\"8fb8f5b9-db4a-4648-8792-947fa113e90e\")) {                    Plotly.newPlot(                        \"8fb8f5b9-db4a-4648-8792-947fa113e90e\",                        [{\"x\":[\"Princeton University\",\"Brown University\",\"California Institute of Technology (Caltech)\",\"Cornell University\",\"Dartmouth College\",\"Harvard University\",\"Massachusetts Institute of Technology (MIT)\",\"Stanford University\",\"University of Pennsylvania\",\"Washington University in St. Louis (WashU)\",\"Yale University\",\"Rice University\",\"Duke University\",\"Vanderbilt University\",\"Northwestern University\",\"University of Southern California (USC)\",\"University of Notre Dame\",\"Carnegie Mellon University (CMU)\",\"Georgetown University\",\"New York University (NYU)\",\"The Ohio State University (OSU)\",\"Miami University\",\"Case Western Reserve University (CWR)\"],\"y\":[3,3,3,3,3,1,2,3,3,3,3,3,3,3,3,3,3,3,3,3,3,3,3],\"type\":\"bar\",\"xaxis\":\"x\",\"yaxis\":\"y\"},{\"x\":[\"Princeton University\",\"Brown University\",\"California Institute of Technology (Caltech)\",\"Cornell University\",\"Dartmouth College\",\"Harvard University\",\"Massachusetts Institute of Technology (MIT)\",\"Stanford University\",\"University of Pennsylvania\",\"Washington University in St. Louis (WashU)\",\"Yale University\",\"Rice University\",\"Duke University\",\"Vanderbilt University\",\"Northwestern University\",\"University of Southern California (USC)\",\"University of Notre Dame\",\"Carnegie Mellon University (CMU)\",\"Georgetown University\",\"New York University (NYU)\",\"The Ohio State University (OSU)\",\"Miami University\",\"Case Western Reserve University (CWR)\"],\"y\":[3,3,2,2,3,1,1,3,2,3,3,3,3,3,3,0,2,3,3,3,3,3,3],\"type\":\"bar\",\"xaxis\":\"x2\",\"yaxis\":\"y2\"},{\"x\":[\"Princeton University\",\"Brown University\",\"California Institute of Technology (Caltech)\",\"Cornell University\",\"Dartmouth College\",\"Harvard University\",\"Massachusetts Institute of Technology (MIT)\",\"Stanford University\",\"University of Pennsylvania\",\"Washington University in St. Louis (WashU)\",\"Yale University\",\"Rice University\",\"Duke University\",\"Vanderbilt University\",\"Northwestern University\",\"University of Southern California (USC)\",\"University of Notre Dame\",\"Carnegie Mellon University (CMU)\",\"Georgetown University\",\"New York University (NYU)\",\"The Ohio State University (OSU)\",\"Miami University\",\"Case Western Reserve University (CWR)\"],\"y\":[3,3,2,3,3,1,2,3,1,3,3,3,3,3,3,3,2,3,3,3,3,3,3],\"type\":\"bar\",\"xaxis\":\"x3\",\"yaxis\":\"y3\"},{\"x\":[\"Princeton University\",\"Brown University\",\"California Institute of Technology (Caltech)\",\"Cornell University\",\"Dartmouth College\",\"Harvard University\",\"Massachusetts Institute of Technology (MIT)\",\"Stanford University\",\"University of Pennsylvania\",\"Washington University in St. Louis (WashU)\",\"Yale University\",\"Rice University\",\"Duke University\",\"Vanderbilt University\",\"Northwestern University\",\"University of Southern California (USC)\",\"University of Notre Dame\",\"Carnegie Mellon University (CMU)\",\"Georgetown University\",\"New York University (NYU)\",\"The Ohio State University (OSU)\",\"Miami University\",\"Case Western Reserve University (CWR)\"],\"y\":[3,3,3,3,3,1,2,3,1,3,1,3,3,3,1,3,1,2,3,3,2,3,1],\"type\":\"bar\",\"xaxis\":\"x4\",\"yaxis\":\"y4\"},{\"x\":[\"Princeton University\",\"Brown University\",\"California Institute of Technology (Caltech)\",\"Cornell University\",\"Dartmouth College\",\"Harvard University\",\"Massachusetts Institute of Technology (MIT)\",\"Stanford University\",\"University of Pennsylvania\",\"Washington University in St. Louis (WashU)\",\"Yale University\",\"Rice University\",\"Duke University\",\"Vanderbilt University\",\"Northwestern University\",\"University of Southern California (USC)\",\"University of Notre Dame\",\"Carnegie Mellon University (CMU)\",\"Georgetown University\",\"New York University (NYU)\",\"The Ohio State University (OSU)\",\"Miami University\",\"Case Western Reserve University (CWR)\"],\"y\":[3,3,3,3,3,1,2,3,1,3,3,3,3,3,2,3,2,2,3,2,1,3,2],\"type\":\"bar\",\"xaxis\":\"x5\",\"yaxis\":\"y5\"},{\"x\":[\"Princeton University\",\"Brown University\",\"California Institute of Technology (Caltech)\",\"Cornell University\",\"Dartmouth College\",\"Harvard University\",\"Massachusetts Institute of Technology (MIT)\",\"Stanford University\",\"University of Pennsylvania\",\"Washington University in St. Louis (WashU)\",\"Yale University\",\"Rice University\",\"Duke University\",\"Vanderbilt University\",\"Northwestern University\",\"University of Southern California (USC)\",\"University of Notre Dame\",\"Carnegie Mellon University (CMU)\",\"Georgetown University\",\"New York University (NYU)\",\"The Ohio State University (OSU)\",\"Miami University\",\"Case Western Reserve University (CWR)\"],\"y\":[3,3,3,3,3,1,2,3,1,3,3,3,3,2,2,3,2,2,3,2,1,3,2],\"type\":\"bar\",\"xaxis\":\"x6\",\"yaxis\":\"y6\"},{\"x\":[\"Princeton University\",\"Brown University\",\"California Institute of Technology (Caltech)\",\"Cornell University\",\"Dartmouth College\",\"Harvard University\",\"Massachusetts Institute of Technology (MIT)\",\"Stanford University\",\"University of Pennsylvania\",\"Washington University in St. Louis (WashU)\",\"Yale University\",\"Rice University\",\"Duke University\",\"Vanderbilt University\",\"Northwestern University\",\"University of Southern California (USC)\",\"University of Notre Dame\",\"Carnegie Mellon University (CMU)\",\"Georgetown University\",\"New York University (NYU)\",\"The Ohio State University (OSU)\",\"Miami University\",\"Case Western Reserve University (CWR)\"],\"y\":[1,1,0,1,1,1,2,1,2,1,1,1,1,1,1,0,0,0,2,1,0,0,2],\"type\":\"bar\",\"xaxis\":\"x7\",\"yaxis\":\"y7\"},{\"x\":[\"Princeton University\",\"Brown University\",\"California Institute of Technology (Caltech)\",\"Cornell University\",\"Dartmouth College\",\"Harvard University\",\"Massachusetts Institute of Technology (MIT)\",\"Stanford University\",\"University of Pennsylvania\",\"Washington University in St. Louis (WashU)\",\"Yale University\",\"Rice University\",\"Duke University\",\"Vanderbilt University\",\"Northwestern University\",\"University of Southern California (USC)\",\"University of Notre Dame\",\"Carnegie Mellon University (CMU)\",\"Georgetown University\",\"New York University (NYU)\",\"The Ohio State University (OSU)\",\"Miami University\",\"Case Western Reserve University (CWR)\"],\"y\":[3,2,2,3,3,1,2,3,2,2,3,3,3,3,2,2,2,1,2,2,2,1,1],\"type\":\"bar\",\"xaxis\":\"x8\",\"yaxis\":\"y8\"},{\"x\":[\"Princeton University\",\"Brown University\",\"California Institute of Technology (Caltech)\",\"Cornell University\",\"Dartmouth College\",\"Harvard University\",\"Massachusetts Institute of Technology (MIT)\",\"Stanford University\",\"University of Pennsylvania\",\"Washington University in St. Louis (WashU)\",\"Yale University\",\"Rice University\",\"Duke University\",\"Vanderbilt University\",\"Northwestern University\",\"University of Southern California (USC)\",\"University of Notre Dame\",\"Carnegie Mellon University (CMU)\",\"Georgetown University\",\"New York University (NYU)\",\"The Ohio State University (OSU)\",\"Miami University\",\"Case Western Reserve University (CWR)\"],\"y\":[3,3,1,3,2,1,2,3,2,3,3,3,3,1,2,2,2,2,3,3,2,3,2],\"type\":\"bar\",\"xaxis\":\"x9\",\"yaxis\":\"y9\"},{\"x\":[\"Princeton University\",\"Brown University\",\"California Institute of Technology (Caltech)\",\"Cornell University\",\"Dartmouth College\",\"Harvard University\",\"Massachusetts Institute of Technology (MIT)\",\"Stanford University\",\"University of Pennsylvania\",\"Washington University in St. Louis (WashU)\",\"Yale University\",\"Rice University\",\"Duke University\",\"Vanderbilt University\",\"Northwestern University\",\"University of Southern California (USC)\",\"University of Notre Dame\",\"Carnegie Mellon University (CMU)\",\"Georgetown University\",\"New York University (NYU)\",\"The Ohio State University (OSU)\",\"Miami University\",\"Case Western Reserve University (CWR)\"],\"y\":[3,3,3,3,3,1,1,3,3,3,3,3,3,3,2,2,3,2,3,2,1,3,2],\"type\":\"bar\",\"xaxis\":\"x10\",\"yaxis\":\"y10\"},{\"x\":[\"Princeton University\",\"Brown University\",\"California Institute of Technology (Caltech)\",\"Cornell University\",\"Dartmouth College\",\"Harvard University\",\"Massachusetts Institute of Technology (MIT)\",\"Stanford University\",\"University of Pennsylvania\",\"Washington University in St. Louis (WashU)\",\"Yale University\",\"Rice University\",\"Duke University\",\"Vanderbilt University\",\"Northwestern University\",\"University of Southern California (USC)\",\"University of Notre Dame\",\"Carnegie Mellon University (CMU)\",\"Georgetown University\",\"New York University (NYU)\",\"The Ohio State University (OSU)\",\"Miami University\",\"Case Western Reserve University (CWR)\"],\"y\":[1,1,1,1,0,1,1,1,1,1,1,1,1,1,1,1,2,2,1,1,2,1,1],\"type\":\"bar\",\"xaxis\":\"x11\",\"yaxis\":\"y11\"},{\"x\":[\"Princeton University\",\"Brown University\",\"California Institute of Technology (Caltech)\",\"Cornell University\",\"Dartmouth College\",\"Harvard University\",\"Massachusetts Institute of Technology (MIT)\",\"Stanford University\",\"University of Pennsylvania\",\"Washington University in St. Louis (WashU)\",\"Yale University\",\"Rice University\",\"Duke University\",\"Vanderbilt University\",\"Northwestern University\",\"University of Southern California (USC)\",\"University of Notre Dame\",\"Carnegie Mellon University (CMU)\",\"Georgetown University\",\"New York University (NYU)\",\"The Ohio State University (OSU)\",\"Miami University\",\"Case Western Reserve University (CWR)\"],\"y\":[0.0,0.0,0.0,null,1.0,0.0,0.0,0.0,0.0,0.0,0.0,0.0,1.0,0.0,0.0,0.0,1.0,0.0,0.0,0.0,0.0,1.0,0.0],\"type\":\"bar\",\"xaxis\":\"x12\",\"yaxis\":\"y12\"},{\"x\":[\"Princeton University\",\"Brown University\",\"California Institute of Technology (Caltech)\",\"Cornell University\",\"Dartmouth College\",\"Harvard University\",\"Massachusetts Institute of Technology (MIT)\",\"Stanford University\",\"University of Pennsylvania\",\"Washington University in St. Louis (WashU)\",\"Yale University\",\"Rice University\",\"Duke University\",\"Vanderbilt University\",\"Northwestern University\",\"University of Southern California (USC)\",\"University of Notre Dame\",\"Carnegie Mellon University (CMU)\",\"Georgetown University\",\"New York University (NYU)\",\"The Ohio State University (OSU)\",\"Miami University\",\"Case Western Reserve University (CWR)\"],\"y\":[0,1,0,1,0,0,0,0,1,0,1,1,1,1,0,0,0,0,1,0,1,1,0],\"type\":\"bar\",\"xaxis\":\"x13\",\"yaxis\":\"y13\"},{\"x\":[\"Princeton University\",\"Brown University\",\"California Institute of Technology (Caltech)\",\"Cornell University\",\"Dartmouth College\",\"Harvard University\",\"Massachusetts Institute of Technology (MIT)\",\"Stanford University\",\"University of Pennsylvania\",\"Washington University in St. Louis (WashU)\",\"Yale University\",\"Rice University\",\"Duke University\",\"Vanderbilt University\",\"Northwestern University\",\"University of Southern California (USC)\",\"University of Notre Dame\",\"Carnegie Mellon University (CMU)\",\"Georgetown University\",\"New York University (NYU)\",\"The Ohio State University (OSU)\",\"Miami University\",\"Case Western Reserve University (CWR)\"],\"y\":[1,1,1,1,1,1,1,1,1,1,1,1,1,1,1,1,2,2,1,1,1,0,2],\"type\":\"bar\",\"xaxis\":\"x14\",\"yaxis\":\"y14\"},{\"x\":[\"Princeton University\",\"Brown University\",\"California Institute of Technology (Caltech)\",\"Cornell University\",\"Dartmouth College\",\"Harvard University\",\"Massachusetts Institute of Technology (MIT)\",\"Stanford University\",\"University of Pennsylvania\",\"Washington University in St. Louis (WashU)\",\"Yale University\",\"Rice University\",\"Duke University\",\"Vanderbilt University\",\"Northwestern University\",\"University of Southern California (USC)\",\"University of Notre Dame\",\"Carnegie Mellon University (CMU)\",\"Georgetown University\",\"New York University (NYU)\",\"The Ohio State University (OSU)\",\"Miami University\",\"Case Western Reserve University (CWR)\"],\"y\":[1,1,1,1,1,1,1,1,1,2,1,1,1,1,1,1,2,3,1,1,2,1,2],\"type\":\"bar\",\"xaxis\":\"x15\",\"yaxis\":\"y15\"},{\"x\":[\"Princeton University\",\"Brown University\",\"California Institute of Technology (Caltech)\",\"Cornell University\",\"Dartmouth College\",\"Harvard University\",\"Massachusetts Institute of Technology (MIT)\",\"Stanford University\",\"University of Pennsylvania\",\"Washington University in St. Louis (WashU)\",\"Yale University\",\"Rice University\",\"Duke University\",\"Vanderbilt University\",\"Northwestern University\",\"University of Southern California (USC)\",\"University of Notre Dame\",\"Carnegie Mellon University (CMU)\",\"Georgetown University\",\"New York University (NYU)\",\"The Ohio State University (OSU)\",\"Miami University\",\"Case Western Reserve University (CWR)\"],\"y\":[1,1,1,1,1,1,1,1,1,2,1,1,1,1,1,1,1,3,1,1,2,1,1],\"type\":\"bar\",\"xaxis\":\"x16\",\"yaxis\":\"y16\"},{\"x\":[\"Princeton University\",\"Brown University\",\"California Institute of Technology (Caltech)\",\"Cornell University\",\"Dartmouth College\",\"Harvard University\",\"Massachusetts Institute of Technology (MIT)\",\"Stanford University\",\"University of Pennsylvania\",\"Washington University in St. Louis (WashU)\",\"Yale University\",\"Rice University\",\"Duke University\",\"Vanderbilt University\",\"Northwestern University\",\"University of Southern California (USC)\",\"University of Notre Dame\",\"Carnegie Mellon University (CMU)\",\"Georgetown University\",\"New York University (NYU)\",\"The Ohio State University (OSU)\",\"Miami University\",\"Case Western Reserve University (CWR)\"],\"y\":[0,0,0,0,1,0,0,0,1,1,0,1,1,0,1,0,1,0,0,1,0,0,1],\"type\":\"bar\",\"xaxis\":\"x17\",\"yaxis\":\"y17\"}],                        {\"template\":{\"data\":{\"histogram2dcontour\":[{\"type\":\"histogram2dcontour\",\"colorbar\":{\"outlinewidth\":0,\"ticks\":\"\"},\"colorscale\":[[0.0,\"#0d0887\"],[0.1111111111111111,\"#46039f\"],[0.2222222222222222,\"#7201a8\"],[0.3333333333333333,\"#9c179e\"],[0.4444444444444444,\"#bd3786\"],[0.5555555555555556,\"#d8576b\"],[0.6666666666666666,\"#ed7953\"],[0.7777777777777778,\"#fb9f3a\"],[0.8888888888888888,\"#fdca26\"],[1.0,\"#f0f921\"]]}],\"choropleth\":[{\"type\":\"choropleth\",\"colorbar\":{\"outlinewidth\":0,\"ticks\":\"\"}}],\"histogram2d\":[{\"type\":\"histogram2d\",\"colorbar\":{\"outlinewidth\":0,\"ticks\":\"\"},\"colorscale\":[[0.0,\"#0d0887\"],[0.1111111111111111,\"#46039f\"],[0.2222222222222222,\"#7201a8\"],[0.3333333333333333,\"#9c179e\"],[0.4444444444444444,\"#bd3786\"],[0.5555555555555556,\"#d8576b\"],[0.6666666666666666,\"#ed7953\"],[0.7777777777777778,\"#fb9f3a\"],[0.8888888888888888,\"#fdca26\"],[1.0,\"#f0f921\"]]}],\"heatmap\":[{\"type\":\"heatmap\",\"colorbar\":{\"outlinewidth\":0,\"ticks\":\"\"},\"colorscale\":[[0.0,\"#0d0887\"],[0.1111111111111111,\"#46039f\"],[0.2222222222222222,\"#7201a8\"],[0.3333333333333333,\"#9c179e\"],[0.4444444444444444,\"#bd3786\"],[0.5555555555555556,\"#d8576b\"],[0.6666666666666666,\"#ed7953\"],[0.7777777777777778,\"#fb9f3a\"],[0.8888888888888888,\"#fdca26\"],[1.0,\"#f0f921\"]]}],\"heatmapgl\":[{\"type\":\"heatmapgl\",\"colorbar\":{\"outlinewidth\":0,\"ticks\":\"\"},\"colorscale\":[[0.0,\"#0d0887\"],[0.1111111111111111,\"#46039f\"],[0.2222222222222222,\"#7201a8\"],[0.3333333333333333,\"#9c179e\"],[0.4444444444444444,\"#bd3786\"],[0.5555555555555556,\"#d8576b\"],[0.6666666666666666,\"#ed7953\"],[0.7777777777777778,\"#fb9f3a\"],[0.8888888888888888,\"#fdca26\"],[1.0,\"#f0f921\"]]}],\"contourcarpet\":[{\"type\":\"contourcarpet\",\"colorbar\":{\"outlinewidth\":0,\"ticks\":\"\"}}],\"contour\":[{\"type\":\"contour\",\"colorbar\":{\"outlinewidth\":0,\"ticks\":\"\"},\"colorscale\":[[0.0,\"#0d0887\"],[0.1111111111111111,\"#46039f\"],[0.2222222222222222,\"#7201a8\"],[0.3333333333333333,\"#9c179e\"],[0.4444444444444444,\"#bd3786\"],[0.5555555555555556,\"#d8576b\"],[0.6666666666666666,\"#ed7953\"],[0.7777777777777778,\"#fb9f3a\"],[0.8888888888888888,\"#fdca26\"],[1.0,\"#f0f921\"]]}],\"surface\":[{\"type\":\"surface\",\"colorbar\":{\"outlinewidth\":0,\"ticks\":\"\"},\"colorscale\":[[0.0,\"#0d0887\"],[0.1111111111111111,\"#46039f\"],[0.2222222222222222,\"#7201a8\"],[0.3333333333333333,\"#9c179e\"],[0.4444444444444444,\"#bd3786\"],[0.5555555555555556,\"#d8576b\"],[0.6666666666666666,\"#ed7953\"],[0.7777777777777778,\"#fb9f3a\"],[0.8888888888888888,\"#fdca26\"],[1.0,\"#f0f921\"]]}],\"mesh3d\":[{\"type\":\"mesh3d\",\"colorbar\":{\"outlinewidth\":0,\"ticks\":\"\"}}],\"scatter\":[{\"fillpattern\":{\"fillmode\":\"overlay\",\"size\":10,\"solidity\":0.2},\"type\":\"scatter\"}],\"parcoords\":[{\"type\":\"parcoords\",\"line\":{\"colorbar\":{\"outlinewidth\":0,\"ticks\":\"\"}}}],\"scatterpolargl\":[{\"type\":\"scatterpolargl\",\"marker\":{\"colorbar\":{\"outlinewidth\":0,\"ticks\":\"\"}}}],\"bar\":[{\"error_x\":{\"color\":\"#2a3f5f\"},\"error_y\":{\"color\":\"#2a3f5f\"},\"marker\":{\"line\":{\"color\":\"#E5ECF6\",\"width\":0.5},\"pattern\":{\"fillmode\":\"overlay\",\"size\":10,\"solidity\":0.2}},\"type\":\"bar\"}],\"scattergeo\":[{\"type\":\"scattergeo\",\"marker\":{\"colorbar\":{\"outlinewidth\":0,\"ticks\":\"\"}}}],\"scatterpolar\":[{\"type\":\"scatterpolar\",\"marker\":{\"colorbar\":{\"outlinewidth\":0,\"ticks\":\"\"}}}],\"histogram\":[{\"marker\":{\"pattern\":{\"fillmode\":\"overlay\",\"size\":10,\"solidity\":0.2}},\"type\":\"histogram\"}],\"scattergl\":[{\"type\":\"scattergl\",\"marker\":{\"colorbar\":{\"outlinewidth\":0,\"ticks\":\"\"}}}],\"scatter3d\":[{\"type\":\"scatter3d\",\"line\":{\"colorbar\":{\"outlinewidth\":0,\"ticks\":\"\"}},\"marker\":{\"colorbar\":{\"outlinewidth\":0,\"ticks\":\"\"}}}],\"scattermapbox\":[{\"type\":\"scattermapbox\",\"marker\":{\"colorbar\":{\"outlinewidth\":0,\"ticks\":\"\"}}}],\"scatterternary\":[{\"type\":\"scatterternary\",\"marker\":{\"colorbar\":{\"outlinewidth\":0,\"ticks\":\"\"}}}],\"scattercarpet\":[{\"type\":\"scattercarpet\",\"marker\":{\"colorbar\":{\"outlinewidth\":0,\"ticks\":\"\"}}}],\"carpet\":[{\"aaxis\":{\"endlinecolor\":\"#2a3f5f\",\"gridcolor\":\"white\",\"linecolor\":\"white\",\"minorgridcolor\":\"white\",\"startlinecolor\":\"#2a3f5f\"},\"baxis\":{\"endlinecolor\":\"#2a3f5f\",\"gridcolor\":\"white\",\"linecolor\":\"white\",\"minorgridcolor\":\"white\",\"startlinecolor\":\"#2a3f5f\"},\"type\":\"carpet\"}],\"table\":[{\"cells\":{\"fill\":{\"color\":\"#EBF0F8\"},\"line\":{\"color\":\"white\"}},\"header\":{\"fill\":{\"color\":\"#C8D4E3\"},\"line\":{\"color\":\"white\"}},\"type\":\"table\"}],\"barpolar\":[{\"marker\":{\"line\":{\"color\":\"#E5ECF6\",\"width\":0.5},\"pattern\":{\"fillmode\":\"overlay\",\"size\":10,\"solidity\":0.2}},\"type\":\"barpolar\"}],\"pie\":[{\"automargin\":true,\"type\":\"pie\"}]},\"layout\":{\"autotypenumbers\":\"strict\",\"colorway\":[\"#636efa\",\"#EF553B\",\"#00cc96\",\"#ab63fa\",\"#FFA15A\",\"#19d3f3\",\"#FF6692\",\"#B6E880\",\"#FF97FF\",\"#FECB52\"],\"font\":{\"color\":\"#2a3f5f\"},\"hovermode\":\"closest\",\"hoverlabel\":{\"align\":\"left\"},\"paper_bgcolor\":\"white\",\"plot_bgcolor\":\"#E5ECF6\",\"polar\":{\"bgcolor\":\"#E5ECF6\",\"angularaxis\":{\"gridcolor\":\"white\",\"linecolor\":\"white\",\"ticks\":\"\"},\"radialaxis\":{\"gridcolor\":\"white\",\"linecolor\":\"white\",\"ticks\":\"\"}},\"ternary\":{\"bgcolor\":\"#E5ECF6\",\"aaxis\":{\"gridcolor\":\"white\",\"linecolor\":\"white\",\"ticks\":\"\"},\"baxis\":{\"gridcolor\":\"white\",\"linecolor\":\"white\",\"ticks\":\"\"},\"caxis\":{\"gridcolor\":\"white\",\"linecolor\":\"white\",\"ticks\":\"\"}},\"coloraxis\":{\"colorbar\":{\"outlinewidth\":0,\"ticks\":\"\"}},\"colorscale\":{\"sequential\":[[0.0,\"#0d0887\"],[0.1111111111111111,\"#46039f\"],[0.2222222222222222,\"#7201a8\"],[0.3333333333333333,\"#9c179e\"],[0.4444444444444444,\"#bd3786\"],[0.5555555555555556,\"#d8576b\"],[0.6666666666666666,\"#ed7953\"],[0.7777777777777778,\"#fb9f3a\"],[0.8888888888888888,\"#fdca26\"],[1.0,\"#f0f921\"]],\"sequentialminus\":[[0.0,\"#0d0887\"],[0.1111111111111111,\"#46039f\"],[0.2222222222222222,\"#7201a8\"],[0.3333333333333333,\"#9c179e\"],[0.4444444444444444,\"#bd3786\"],[0.5555555555555556,\"#d8576b\"],[0.6666666666666666,\"#ed7953\"],[0.7777777777777778,\"#fb9f3a\"],[0.8888888888888888,\"#fdca26\"],[1.0,\"#f0f921\"]],\"diverging\":[[0,\"#8e0152\"],[0.1,\"#c51b7d\"],[0.2,\"#de77ae\"],[0.3,\"#f1b6da\"],[0.4,\"#fde0ef\"],[0.5,\"#f7f7f7\"],[0.6,\"#e6f5d0\"],[0.7,\"#b8e186\"],[0.8,\"#7fbc41\"],[0.9,\"#4d9221\"],[1,\"#276419\"]]},\"xaxis\":{\"gridcolor\":\"white\",\"linecolor\":\"white\",\"ticks\":\"\",\"title\":{\"standoff\":15},\"zerolinecolor\":\"white\",\"automargin\":true,\"zerolinewidth\":2},\"yaxis\":{\"gridcolor\":\"white\",\"linecolor\":\"white\",\"ticks\":\"\",\"title\":{\"standoff\":15},\"zerolinecolor\":\"white\",\"automargin\":true,\"zerolinewidth\":2},\"scene\":{\"xaxis\":{\"backgroundcolor\":\"#E5ECF6\",\"gridcolor\":\"white\",\"linecolor\":\"white\",\"showbackground\":true,\"ticks\":\"\",\"zerolinecolor\":\"white\",\"gridwidth\":2},\"yaxis\":{\"backgroundcolor\":\"#E5ECF6\",\"gridcolor\":\"white\",\"linecolor\":\"white\",\"showbackground\":true,\"ticks\":\"\",\"zerolinecolor\":\"white\",\"gridwidth\":2},\"zaxis\":{\"backgroundcolor\":\"#E5ECF6\",\"gridcolor\":\"white\",\"linecolor\":\"white\",\"showbackground\":true,\"ticks\":\"\",\"zerolinecolor\":\"white\",\"gridwidth\":2}},\"shapedefaults\":{\"line\":{\"color\":\"#2a3f5f\"}},\"annotationdefaults\":{\"arrowcolor\":\"#2a3f5f\",\"arrowhead\":0,\"arrowwidth\":1},\"geo\":{\"bgcolor\":\"white\",\"landcolor\":\"#E5ECF6\",\"subunitcolor\":\"white\",\"showland\":true,\"showlakes\":true,\"lakecolor\":\"white\"},\"title\":{\"x\":0.05},\"mapbox\":{\"style\":\"light\"}}},\"xaxis\":{\"anchor\":\"y\",\"domain\":[0.0,1.0]},\"yaxis\":{\"anchor\":\"x\",\"domain\":[0.9577854671280275,0.9999999999999998],\"title\":{\"text\":\"Rigor\"}},\"xaxis2\":{\"anchor\":\"y2\",\"domain\":[0.0,1.0]},\"yaxis2\":{\"anchor\":\"x2\",\"domain\":[0.8979238754325258,0.9401384083044981],\"title\":{\"text\":\"Rigor\"}},\"xaxis3\":{\"anchor\":\"y3\",\"domain\":[0.0,1.0]},\"yaxis3\":{\"anchor\":\"x3\",\"domain\":[0.8380622837370241,0.8802768166089964],\"title\":{\"text\":\"Rank\"}},\"xaxis4\":{\"anchor\":\"y4\",\"domain\":[0.0,1.0]},\"yaxis4\":{\"anchor\":\"x4\",\"domain\":[0.7782006920415223,0.8204152249134946],\"title\":{\"text\":\"GPA\"}},\"xaxis5\":{\"anchor\":\"y5\",\"domain\":[0.0,1.0]},\"yaxis5\":{\"anchor\":\"x5\",\"domain\":[0.7183391003460207,0.760553633217993],\"title\":{\"text\":\"Test Score\"}},\"xaxis6\":{\"anchor\":\"y6\",\"domain\":[0.0,1.0]},\"yaxis6\":{\"anchor\":\"x6\",\"domain\":[0.6584775086505189,0.7006920415224912],\"title\":{\"text\":\"Essay\"}},\"xaxis7\":{\"anchor\":\"y7\",\"domain\":[0.0,1.0]},\"yaxis7\":{\"anchor\":\"x7\",\"domain\":[0.5986159169550171,0.6408304498269894],\"title\":{\"text\":\"Recommendation\"}},\"xaxis8\":{\"anchor\":\"y8\",\"domain\":[0.0,1.0]},\"yaxis8\":{\"anchor\":\"x8\",\"domain\":[0.5387543252595155,0.5809688581314878],\"title\":{\"text\":\"Interview\"}},\"xaxis9\":{\"anchor\":\"y9\",\"domain\":[0.0,1.0]},\"yaxis9\":{\"anchor\":\"x9\",\"domain\":[0.4788927335640138,0.5211072664359861],\"title\":{\"text\":\"Extracurricular\"}},\"xaxis10\":{\"anchor\":\"y10\",\"domain\":[0.0,1.0]},\"yaxis10\":{\"anchor\":\"x10\",\"domain\":[0.4190311418685121,0.4612456747404844],\"title\":{\"text\":\"Talent\"}},\"xaxis11\":{\"anchor\":\"y11\",\"domain\":[0.0,1.0]},\"yaxis11\":{\"anchor\":\"x11\",\"domain\":[0.3591695501730104,0.4013840830449827],\"title\":{\"text\":\"Personality\"}},\"xaxis12\":{\"anchor\":\"y12\",\"domain\":[0.0,1.0]},\"yaxis12\":{\"anchor\":\"x12\",\"domain\":[0.2993079584775087,0.341522491349481],\"title\":{\"text\":\"First Generation\"}},\"xaxis13\":{\"anchor\":\"y13\",\"domain\":[0.0,1.0]},\"yaxis13\":{\"anchor\":\"x13\",\"domain\":[0.23944636678200693,0.2816608996539792],\"title\":{\"text\":\"Religious\"}},\"xaxis14\":{\"anchor\":\"y14\",\"domain\":[0.0,1.0]},\"yaxis14\":{\"anchor\":\"x14\",\"domain\":[0.1795847750865052,0.22179930795847752],\"title\":{\"text\":\"State Residency\"}},\"xaxis15\":{\"anchor\":\"y15\",\"domain\":[0.0,1.0]},\"yaxis15\":{\"anchor\":\"x15\",\"domain\":[0.11972318339100346,0.1619377162629758],\"title\":{\"text\":\"Race\"}},\"xaxis16\":{\"anchor\":\"y16\",\"domain\":[0.0,1.0]},\"yaxis16\":{\"anchor\":\"x16\",\"domain\":[0.05986159169550173,0.10207612456747406]},\"xaxis17\":{\"anchor\":\"y17\",\"domain\":[0.0,1.0]},\"yaxis17\":{\"anchor\":\"x17\",\"domain\":[0.0,0.04221453287197232]},\"height\":9000,\"width\":1000,\"title\":{\"text\":\"Universities compared on each metric from the dataset\"}},                        {\"responsive\": true}                    ).then(function(){\n",
       "                            \n",
       "var gd = document.getElementById('8fb8f5b9-db4a-4648-8792-947fa113e90e');\n",
       "var x = new MutationObserver(function (mutations, observer) {{\n",
       "        var display = window.getComputedStyle(gd).display;\n",
       "        if (!display || display === 'none') {{\n",
       "            console.log([gd, 'removed!']);\n",
       "            Plotly.purge(gd);\n",
       "            observer.disconnect();\n",
       "        }}\n",
       "}});\n",
       "\n",
       "// Listen for the removal of the full notebook cells\n",
       "var notebookContainer = gd.closest('#notebook-container');\n",
       "if (notebookContainer) {{\n",
       "    x.observe(notebookContainer, {childList: true});\n",
       "}}\n",
       "\n",
       "// Listen for the clearing of the current output cell\n",
       "var outputEl = gd.closest('.output');\n",
       "if (outputEl) {{\n",
       "    x.observe(outputEl, {childList: true});\n",
       "}}\n",
       "\n",
       "                        })                };                });            </script>        </div>"
      ]
     },
     "metadata": {},
     "output_type": "display_data"
    }
   ],
   "source": [
    "metric_list = admission_df.columns[1:]\n",
    "\n",
    "fig = make_subplots(rows=len(metric_list), cols=1)\n",
    "\n",
    "for i in range(len(metric_list)):\n",
    "\n",
    "    fig.append_trace(go.Bar( x = admission_df[\"Name of University\"], y = admission_df[metric_list[i]]),  row=i+1, col=1)\n",
    " \n",
    "fig['layout']['yaxis' ]['title']= metric_list[0]\n",
    "for i in range(len(metric_list[1:]) - 2):\n",
    "    fig['layout']['yaxis' + str(i+2)]['title']= metric_list[i]\n",
    "    \n",
    "fig['layout'].update(height=9000, width=1000, title='Universities compared on each metric from the dataset')\n",
    "fig.show()"
   ]
  },
  {
   "cell_type": "code",
   "execution_count": 80,
   "metadata": {},
   "outputs": [
    {
     "data": {
      "application/vnd.plotly.v1+json": {
       "config": {
        "plotlyServerURL": "https://plot.ly"
       },
       "data": [
        {
         "alignmentgroup": "True",
         "hovertemplate": "Name of University=%{x}<br>value=%{y}<br>GPA=%{marker.color}<extra></extra>",
         "legendgroup": "",
         "marker": {
          "color": [
           3,
           3,
           2,
           3,
           3,
           1,
           2,
           3,
           1,
           3,
           3,
           3,
           3,
           3,
           3,
           3,
           2,
           3,
           3,
           3,
           3,
           3,
           3
          ],
          "coloraxis": "coloraxis",
          "pattern": {
           "shape": ""
          }
         },
         "name": "",
         "offsetgroup": "",
         "orientation": "v",
         "showlegend": false,
         "textposition": "auto",
         "type": "bar",
         "x": [
          "Princeton University",
          "Brown University",
          "California Institute of Technology (Caltech)",
          "Cornell University",
          "Dartmouth College",
          "Harvard University",
          "Massachusetts Institute of Technology (MIT)",
          "Stanford University",
          "University of Pennsylvania",
          "Washington University in St. Louis (WashU)",
          "Yale University",
          "Rice University",
          "Duke University",
          "Vanderbilt University",
          "Northwestern University",
          "University of Southern California (USC)",
          "University of Notre Dame",
          "Carnegie Mellon University (CMU)",
          "Georgetown University",
          "New York University (NYU)",
          "The Ohio State University (OSU)",
          "Miami University",
          "Case Western Reserve University (CWR)"
         ],
         "xaxis": "x",
         "y": [
          1,
          1,
          0,
          1,
          1,
          1,
          2,
          1,
          2,
          1,
          1,
          1,
          1,
          1,
          1,
          0,
          0,
          0,
          2,
          1,
          0,
          0,
          2
         ],
         "yaxis": "y"
        }
       ],
       "layout": {
        "barmode": "relative",
        "coloraxis": {
         "colorbar": {
          "title": {
           "text": "GPA"
          }
         },
         "colorscale": [
          [
           0,
           "#0d0887"
          ],
          [
           0.1111111111111111,
           "#46039f"
          ],
          [
           0.2222222222222222,
           "#7201a8"
          ],
          [
           0.3333333333333333,
           "#9c179e"
          ],
          [
           0.4444444444444444,
           "#bd3786"
          ],
          [
           0.5555555555555556,
           "#d8576b"
          ],
          [
           0.6666666666666666,
           "#ed7953"
          ],
          [
           0.7777777777777778,
           "#fb9f3a"
          ],
          [
           0.8888888888888888,
           "#fdca26"
          ],
          [
           1,
           "#f0f921"
          ]
         ]
        },
        "legend": {
         "tracegroupgap": 0
        },
        "template": {
         "data": {
          "bar": [
           {
            "error_x": {
             "color": "#2a3f5f"
            },
            "error_y": {
             "color": "#2a3f5f"
            },
            "marker": {
             "line": {
              "color": "#E5ECF6",
              "width": 0.5
             },
             "pattern": {
              "fillmode": "overlay",
              "size": 10,
              "solidity": 0.2
             }
            },
            "type": "bar"
           }
          ],
          "barpolar": [
           {
            "marker": {
             "line": {
              "color": "#E5ECF6",
              "width": 0.5
             },
             "pattern": {
              "fillmode": "overlay",
              "size": 10,
              "solidity": 0.2
             }
            },
            "type": "barpolar"
           }
          ],
          "carpet": [
           {
            "aaxis": {
             "endlinecolor": "#2a3f5f",
             "gridcolor": "white",
             "linecolor": "white",
             "minorgridcolor": "white",
             "startlinecolor": "#2a3f5f"
            },
            "baxis": {
             "endlinecolor": "#2a3f5f",
             "gridcolor": "white",
             "linecolor": "white",
             "minorgridcolor": "white",
             "startlinecolor": "#2a3f5f"
            },
            "type": "carpet"
           }
          ],
          "choropleth": [
           {
            "colorbar": {
             "outlinewidth": 0,
             "ticks": ""
            },
            "type": "choropleth"
           }
          ],
          "contour": [
           {
            "colorbar": {
             "outlinewidth": 0,
             "ticks": ""
            },
            "colorscale": [
             [
              0,
              "#0d0887"
             ],
             [
              0.1111111111111111,
              "#46039f"
             ],
             [
              0.2222222222222222,
              "#7201a8"
             ],
             [
              0.3333333333333333,
              "#9c179e"
             ],
             [
              0.4444444444444444,
              "#bd3786"
             ],
             [
              0.5555555555555556,
              "#d8576b"
             ],
             [
              0.6666666666666666,
              "#ed7953"
             ],
             [
              0.7777777777777778,
              "#fb9f3a"
             ],
             [
              0.8888888888888888,
              "#fdca26"
             ],
             [
              1,
              "#f0f921"
             ]
            ],
            "type": "contour"
           }
          ],
          "contourcarpet": [
           {
            "colorbar": {
             "outlinewidth": 0,
             "ticks": ""
            },
            "type": "contourcarpet"
           }
          ],
          "heatmap": [
           {
            "colorbar": {
             "outlinewidth": 0,
             "ticks": ""
            },
            "colorscale": [
             [
              0,
              "#0d0887"
             ],
             [
              0.1111111111111111,
              "#46039f"
             ],
             [
              0.2222222222222222,
              "#7201a8"
             ],
             [
              0.3333333333333333,
              "#9c179e"
             ],
             [
              0.4444444444444444,
              "#bd3786"
             ],
             [
              0.5555555555555556,
              "#d8576b"
             ],
             [
              0.6666666666666666,
              "#ed7953"
             ],
             [
              0.7777777777777778,
              "#fb9f3a"
             ],
             [
              0.8888888888888888,
              "#fdca26"
             ],
             [
              1,
              "#f0f921"
             ]
            ],
            "type": "heatmap"
           }
          ],
          "heatmapgl": [
           {
            "colorbar": {
             "outlinewidth": 0,
             "ticks": ""
            },
            "colorscale": [
             [
              0,
              "#0d0887"
             ],
             [
              0.1111111111111111,
              "#46039f"
             ],
             [
              0.2222222222222222,
              "#7201a8"
             ],
             [
              0.3333333333333333,
              "#9c179e"
             ],
             [
              0.4444444444444444,
              "#bd3786"
             ],
             [
              0.5555555555555556,
              "#d8576b"
             ],
             [
              0.6666666666666666,
              "#ed7953"
             ],
             [
              0.7777777777777778,
              "#fb9f3a"
             ],
             [
              0.8888888888888888,
              "#fdca26"
             ],
             [
              1,
              "#f0f921"
             ]
            ],
            "type": "heatmapgl"
           }
          ],
          "histogram": [
           {
            "marker": {
             "pattern": {
              "fillmode": "overlay",
              "size": 10,
              "solidity": 0.2
             }
            },
            "type": "histogram"
           }
          ],
          "histogram2d": [
           {
            "colorbar": {
             "outlinewidth": 0,
             "ticks": ""
            },
            "colorscale": [
             [
              0,
              "#0d0887"
             ],
             [
              0.1111111111111111,
              "#46039f"
             ],
             [
              0.2222222222222222,
              "#7201a8"
             ],
             [
              0.3333333333333333,
              "#9c179e"
             ],
             [
              0.4444444444444444,
              "#bd3786"
             ],
             [
              0.5555555555555556,
              "#d8576b"
             ],
             [
              0.6666666666666666,
              "#ed7953"
             ],
             [
              0.7777777777777778,
              "#fb9f3a"
             ],
             [
              0.8888888888888888,
              "#fdca26"
             ],
             [
              1,
              "#f0f921"
             ]
            ],
            "type": "histogram2d"
           }
          ],
          "histogram2dcontour": [
           {
            "colorbar": {
             "outlinewidth": 0,
             "ticks": ""
            },
            "colorscale": [
             [
              0,
              "#0d0887"
             ],
             [
              0.1111111111111111,
              "#46039f"
             ],
             [
              0.2222222222222222,
              "#7201a8"
             ],
             [
              0.3333333333333333,
              "#9c179e"
             ],
             [
              0.4444444444444444,
              "#bd3786"
             ],
             [
              0.5555555555555556,
              "#d8576b"
             ],
             [
              0.6666666666666666,
              "#ed7953"
             ],
             [
              0.7777777777777778,
              "#fb9f3a"
             ],
             [
              0.8888888888888888,
              "#fdca26"
             ],
             [
              1,
              "#f0f921"
             ]
            ],
            "type": "histogram2dcontour"
           }
          ],
          "mesh3d": [
           {
            "colorbar": {
             "outlinewidth": 0,
             "ticks": ""
            },
            "type": "mesh3d"
           }
          ],
          "parcoords": [
           {
            "line": {
             "colorbar": {
              "outlinewidth": 0,
              "ticks": ""
             }
            },
            "type": "parcoords"
           }
          ],
          "pie": [
           {
            "automargin": true,
            "type": "pie"
           }
          ],
          "scatter": [
           {
            "fillpattern": {
             "fillmode": "overlay",
             "size": 10,
             "solidity": 0.2
            },
            "type": "scatter"
           }
          ],
          "scatter3d": [
           {
            "line": {
             "colorbar": {
              "outlinewidth": 0,
              "ticks": ""
             }
            },
            "marker": {
             "colorbar": {
              "outlinewidth": 0,
              "ticks": ""
             }
            },
            "type": "scatter3d"
           }
          ],
          "scattercarpet": [
           {
            "marker": {
             "colorbar": {
              "outlinewidth": 0,
              "ticks": ""
             }
            },
            "type": "scattercarpet"
           }
          ],
          "scattergeo": [
           {
            "marker": {
             "colorbar": {
              "outlinewidth": 0,
              "ticks": ""
             }
            },
            "type": "scattergeo"
           }
          ],
          "scattergl": [
           {
            "marker": {
             "colorbar": {
              "outlinewidth": 0,
              "ticks": ""
             }
            },
            "type": "scattergl"
           }
          ],
          "scattermapbox": [
           {
            "marker": {
             "colorbar": {
              "outlinewidth": 0,
              "ticks": ""
             }
            },
            "type": "scattermapbox"
           }
          ],
          "scatterpolar": [
           {
            "marker": {
             "colorbar": {
              "outlinewidth": 0,
              "ticks": ""
             }
            },
            "type": "scatterpolar"
           }
          ],
          "scatterpolargl": [
           {
            "marker": {
             "colorbar": {
              "outlinewidth": 0,
              "ticks": ""
             }
            },
            "type": "scatterpolargl"
           }
          ],
          "scatterternary": [
           {
            "marker": {
             "colorbar": {
              "outlinewidth": 0,
              "ticks": ""
             }
            },
            "type": "scatterternary"
           }
          ],
          "surface": [
           {
            "colorbar": {
             "outlinewidth": 0,
             "ticks": ""
            },
            "colorscale": [
             [
              0,
              "#0d0887"
             ],
             [
              0.1111111111111111,
              "#46039f"
             ],
             [
              0.2222222222222222,
              "#7201a8"
             ],
             [
              0.3333333333333333,
              "#9c179e"
             ],
             [
              0.4444444444444444,
              "#bd3786"
             ],
             [
              0.5555555555555556,
              "#d8576b"
             ],
             [
              0.6666666666666666,
              "#ed7953"
             ],
             [
              0.7777777777777778,
              "#fb9f3a"
             ],
             [
              0.8888888888888888,
              "#fdca26"
             ],
             [
              1,
              "#f0f921"
             ]
            ],
            "type": "surface"
           }
          ],
          "table": [
           {
            "cells": {
             "fill": {
              "color": "#EBF0F8"
             },
             "line": {
              "color": "white"
             }
            },
            "header": {
             "fill": {
              "color": "#C8D4E3"
             },
             "line": {
              "color": "white"
             }
            },
            "type": "table"
           }
          ]
         },
         "layout": {
          "annotationdefaults": {
           "arrowcolor": "#2a3f5f",
           "arrowhead": 0,
           "arrowwidth": 1
          },
          "autotypenumbers": "strict",
          "coloraxis": {
           "colorbar": {
            "outlinewidth": 0,
            "ticks": ""
           }
          },
          "colorscale": {
           "diverging": [
            [
             0,
             "#8e0152"
            ],
            [
             0.1,
             "#c51b7d"
            ],
            [
             0.2,
             "#de77ae"
            ],
            [
             0.3,
             "#f1b6da"
            ],
            [
             0.4,
             "#fde0ef"
            ],
            [
             0.5,
             "#f7f7f7"
            ],
            [
             0.6,
             "#e6f5d0"
            ],
            [
             0.7,
             "#b8e186"
            ],
            [
             0.8,
             "#7fbc41"
            ],
            [
             0.9,
             "#4d9221"
            ],
            [
             1,
             "#276419"
            ]
           ],
           "sequential": [
            [
             0,
             "#0d0887"
            ],
            [
             0.1111111111111111,
             "#46039f"
            ],
            [
             0.2222222222222222,
             "#7201a8"
            ],
            [
             0.3333333333333333,
             "#9c179e"
            ],
            [
             0.4444444444444444,
             "#bd3786"
            ],
            [
             0.5555555555555556,
             "#d8576b"
            ],
            [
             0.6666666666666666,
             "#ed7953"
            ],
            [
             0.7777777777777778,
             "#fb9f3a"
            ],
            [
             0.8888888888888888,
             "#fdca26"
            ],
            [
             1,
             "#f0f921"
            ]
           ],
           "sequentialminus": [
            [
             0,
             "#0d0887"
            ],
            [
             0.1111111111111111,
             "#46039f"
            ],
            [
             0.2222222222222222,
             "#7201a8"
            ],
            [
             0.3333333333333333,
             "#9c179e"
            ],
            [
             0.4444444444444444,
             "#bd3786"
            ],
            [
             0.5555555555555556,
             "#d8576b"
            ],
            [
             0.6666666666666666,
             "#ed7953"
            ],
            [
             0.7777777777777778,
             "#fb9f3a"
            ],
            [
             0.8888888888888888,
             "#fdca26"
            ],
            [
             1,
             "#f0f921"
            ]
           ]
          },
          "colorway": [
           "#636efa",
           "#EF553B",
           "#00cc96",
           "#ab63fa",
           "#FFA15A",
           "#19d3f3",
           "#FF6692",
           "#B6E880",
           "#FF97FF",
           "#FECB52"
          ],
          "font": {
           "color": "#2a3f5f"
          },
          "geo": {
           "bgcolor": "white",
           "lakecolor": "white",
           "landcolor": "#E5ECF6",
           "showlakes": true,
           "showland": true,
           "subunitcolor": "white"
          },
          "hoverlabel": {
           "align": "left"
          },
          "hovermode": "closest",
          "mapbox": {
           "style": "light"
          },
          "paper_bgcolor": "white",
          "plot_bgcolor": "#E5ECF6",
          "polar": {
           "angularaxis": {
            "gridcolor": "white",
            "linecolor": "white",
            "ticks": ""
           },
           "bgcolor": "#E5ECF6",
           "radialaxis": {
            "gridcolor": "white",
            "linecolor": "white",
            "ticks": ""
           }
          },
          "scene": {
           "xaxis": {
            "backgroundcolor": "#E5ECF6",
            "gridcolor": "white",
            "gridwidth": 2,
            "linecolor": "white",
            "showbackground": true,
            "ticks": "",
            "zerolinecolor": "white"
           },
           "yaxis": {
            "backgroundcolor": "#E5ECF6",
            "gridcolor": "white",
            "gridwidth": 2,
            "linecolor": "white",
            "showbackground": true,
            "ticks": "",
            "zerolinecolor": "white"
           },
           "zaxis": {
            "backgroundcolor": "#E5ECF6",
            "gridcolor": "white",
            "gridwidth": 2,
            "linecolor": "white",
            "showbackground": true,
            "ticks": "",
            "zerolinecolor": "white"
           }
          },
          "shapedefaults": {
           "line": {
            "color": "#2a3f5f"
           }
          },
          "ternary": {
           "aaxis": {
            "gridcolor": "white",
            "linecolor": "white",
            "ticks": ""
           },
           "baxis": {
            "gridcolor": "white",
            "linecolor": "white",
            "ticks": ""
           },
           "bgcolor": "#E5ECF6",
           "caxis": {
            "gridcolor": "white",
            "linecolor": "white",
            "ticks": ""
           }
          },
          "title": {
           "x": 0.05
          },
          "xaxis": {
           "automargin": true,
           "gridcolor": "white",
           "linecolor": "white",
           "ticks": "",
           "title": {
            "standoff": 15
           },
           "zerolinecolor": "white",
           "zerolinewidth": 2
          },
          "yaxis": {
           "automargin": true,
           "gridcolor": "white",
           "linecolor": "white",
           "ticks": "",
           "title": {
            "standoff": 15
           },
           "zerolinecolor": "white",
           "zerolinewidth": 2
          }
         }
        },
        "title": {
         "text": "Example 2 :Bar plot with hue that allows to see relations between variables"
        },
        "xaxis": {
         "anchor": "y",
         "domain": [
          0,
          1
         ],
         "title": {
          "text": "Name of University"
         }
        },
        "yaxis": {
         "anchor": "x",
         "domain": [
          0,
          1
         ],
         "title": {
          "text": "value"
         }
        }
       }
      },
      "text/html": [
       "<div>                            <div id=\"99063cc7-1ba6-4aba-8d3e-cdab40c0d68f\" class=\"plotly-graph-div\" style=\"height:525px; width:100%;\"></div>            <script type=\"text/javascript\">                require([\"plotly\"], function(Plotly) {                    window.PLOTLYENV=window.PLOTLYENV || {};                                    if (document.getElementById(\"99063cc7-1ba6-4aba-8d3e-cdab40c0d68f\")) {                    Plotly.newPlot(                        \"99063cc7-1ba6-4aba-8d3e-cdab40c0d68f\",                        [{\"alignmentgroup\":\"True\",\"hovertemplate\":\"Name of University=%{x}<br>value=%{y}<br>GPA=%{marker.color}<extra></extra>\",\"legendgroup\":\"\",\"marker\":{\"color\":[3,3,2,3,3,1,2,3,1,3,3,3,3,3,3,3,2,3,3,3,3,3,3],\"coloraxis\":\"coloraxis\",\"pattern\":{\"shape\":\"\"}},\"name\":\"\",\"offsetgroup\":\"\",\"orientation\":\"v\",\"showlegend\":false,\"textposition\":\"auto\",\"x\":[\"Princeton University\",\"Brown University\",\"California Institute of Technology (Caltech)\",\"Cornell University\",\"Dartmouth College\",\"Harvard University\",\"Massachusetts Institute of Technology (MIT)\",\"Stanford University\",\"University of Pennsylvania\",\"Washington University in St. Louis (WashU)\",\"Yale University\",\"Rice University\",\"Duke University\",\"Vanderbilt University\",\"Northwestern University\",\"University of Southern California (USC)\",\"University of Notre Dame\",\"Carnegie Mellon University (CMU)\",\"Georgetown University\",\"New York University (NYU)\",\"The Ohio State University (OSU)\",\"Miami University\",\"Case Western Reserve University (CWR)\"],\"xaxis\":\"x\",\"y\":[1,1,0,1,1,1,2,1,2,1,1,1,1,1,1,0,0,0,2,1,0,0,2],\"yaxis\":\"y\",\"type\":\"bar\"}],                        {\"template\":{\"data\":{\"histogram2dcontour\":[{\"type\":\"histogram2dcontour\",\"colorbar\":{\"outlinewidth\":0,\"ticks\":\"\"},\"colorscale\":[[0.0,\"#0d0887\"],[0.1111111111111111,\"#46039f\"],[0.2222222222222222,\"#7201a8\"],[0.3333333333333333,\"#9c179e\"],[0.4444444444444444,\"#bd3786\"],[0.5555555555555556,\"#d8576b\"],[0.6666666666666666,\"#ed7953\"],[0.7777777777777778,\"#fb9f3a\"],[0.8888888888888888,\"#fdca26\"],[1.0,\"#f0f921\"]]}],\"choropleth\":[{\"type\":\"choropleth\",\"colorbar\":{\"outlinewidth\":0,\"ticks\":\"\"}}],\"histogram2d\":[{\"type\":\"histogram2d\",\"colorbar\":{\"outlinewidth\":0,\"ticks\":\"\"},\"colorscale\":[[0.0,\"#0d0887\"],[0.1111111111111111,\"#46039f\"],[0.2222222222222222,\"#7201a8\"],[0.3333333333333333,\"#9c179e\"],[0.4444444444444444,\"#bd3786\"],[0.5555555555555556,\"#d8576b\"],[0.6666666666666666,\"#ed7953\"],[0.7777777777777778,\"#fb9f3a\"],[0.8888888888888888,\"#fdca26\"],[1.0,\"#f0f921\"]]}],\"heatmap\":[{\"type\":\"heatmap\",\"colorbar\":{\"outlinewidth\":0,\"ticks\":\"\"},\"colorscale\":[[0.0,\"#0d0887\"],[0.1111111111111111,\"#46039f\"],[0.2222222222222222,\"#7201a8\"],[0.3333333333333333,\"#9c179e\"],[0.4444444444444444,\"#bd3786\"],[0.5555555555555556,\"#d8576b\"],[0.6666666666666666,\"#ed7953\"],[0.7777777777777778,\"#fb9f3a\"],[0.8888888888888888,\"#fdca26\"],[1.0,\"#f0f921\"]]}],\"heatmapgl\":[{\"type\":\"heatmapgl\",\"colorbar\":{\"outlinewidth\":0,\"ticks\":\"\"},\"colorscale\":[[0.0,\"#0d0887\"],[0.1111111111111111,\"#46039f\"],[0.2222222222222222,\"#7201a8\"],[0.3333333333333333,\"#9c179e\"],[0.4444444444444444,\"#bd3786\"],[0.5555555555555556,\"#d8576b\"],[0.6666666666666666,\"#ed7953\"],[0.7777777777777778,\"#fb9f3a\"],[0.8888888888888888,\"#fdca26\"],[1.0,\"#f0f921\"]]}],\"contourcarpet\":[{\"type\":\"contourcarpet\",\"colorbar\":{\"outlinewidth\":0,\"ticks\":\"\"}}],\"contour\":[{\"type\":\"contour\",\"colorbar\":{\"outlinewidth\":0,\"ticks\":\"\"},\"colorscale\":[[0.0,\"#0d0887\"],[0.1111111111111111,\"#46039f\"],[0.2222222222222222,\"#7201a8\"],[0.3333333333333333,\"#9c179e\"],[0.4444444444444444,\"#bd3786\"],[0.5555555555555556,\"#d8576b\"],[0.6666666666666666,\"#ed7953\"],[0.7777777777777778,\"#fb9f3a\"],[0.8888888888888888,\"#fdca26\"],[1.0,\"#f0f921\"]]}],\"surface\":[{\"type\":\"surface\",\"colorbar\":{\"outlinewidth\":0,\"ticks\":\"\"},\"colorscale\":[[0.0,\"#0d0887\"],[0.1111111111111111,\"#46039f\"],[0.2222222222222222,\"#7201a8\"],[0.3333333333333333,\"#9c179e\"],[0.4444444444444444,\"#bd3786\"],[0.5555555555555556,\"#d8576b\"],[0.6666666666666666,\"#ed7953\"],[0.7777777777777778,\"#fb9f3a\"],[0.8888888888888888,\"#fdca26\"],[1.0,\"#f0f921\"]]}],\"mesh3d\":[{\"type\":\"mesh3d\",\"colorbar\":{\"outlinewidth\":0,\"ticks\":\"\"}}],\"scatter\":[{\"fillpattern\":{\"fillmode\":\"overlay\",\"size\":10,\"solidity\":0.2},\"type\":\"scatter\"}],\"parcoords\":[{\"type\":\"parcoords\",\"line\":{\"colorbar\":{\"outlinewidth\":0,\"ticks\":\"\"}}}],\"scatterpolargl\":[{\"type\":\"scatterpolargl\",\"marker\":{\"colorbar\":{\"outlinewidth\":0,\"ticks\":\"\"}}}],\"bar\":[{\"error_x\":{\"color\":\"#2a3f5f\"},\"error_y\":{\"color\":\"#2a3f5f\"},\"marker\":{\"line\":{\"color\":\"#E5ECF6\",\"width\":0.5},\"pattern\":{\"fillmode\":\"overlay\",\"size\":10,\"solidity\":0.2}},\"type\":\"bar\"}],\"scattergeo\":[{\"type\":\"scattergeo\",\"marker\":{\"colorbar\":{\"outlinewidth\":0,\"ticks\":\"\"}}}],\"scatterpolar\":[{\"type\":\"scatterpolar\",\"marker\":{\"colorbar\":{\"outlinewidth\":0,\"ticks\":\"\"}}}],\"histogram\":[{\"marker\":{\"pattern\":{\"fillmode\":\"overlay\",\"size\":10,\"solidity\":0.2}},\"type\":\"histogram\"}],\"scattergl\":[{\"type\":\"scattergl\",\"marker\":{\"colorbar\":{\"outlinewidth\":0,\"ticks\":\"\"}}}],\"scatter3d\":[{\"type\":\"scatter3d\",\"line\":{\"colorbar\":{\"outlinewidth\":0,\"ticks\":\"\"}},\"marker\":{\"colorbar\":{\"outlinewidth\":0,\"ticks\":\"\"}}}],\"scattermapbox\":[{\"type\":\"scattermapbox\",\"marker\":{\"colorbar\":{\"outlinewidth\":0,\"ticks\":\"\"}}}],\"scatterternary\":[{\"type\":\"scatterternary\",\"marker\":{\"colorbar\":{\"outlinewidth\":0,\"ticks\":\"\"}}}],\"scattercarpet\":[{\"type\":\"scattercarpet\",\"marker\":{\"colorbar\":{\"outlinewidth\":0,\"ticks\":\"\"}}}],\"carpet\":[{\"aaxis\":{\"endlinecolor\":\"#2a3f5f\",\"gridcolor\":\"white\",\"linecolor\":\"white\",\"minorgridcolor\":\"white\",\"startlinecolor\":\"#2a3f5f\"},\"baxis\":{\"endlinecolor\":\"#2a3f5f\",\"gridcolor\":\"white\",\"linecolor\":\"white\",\"minorgridcolor\":\"white\",\"startlinecolor\":\"#2a3f5f\"},\"type\":\"carpet\"}],\"table\":[{\"cells\":{\"fill\":{\"color\":\"#EBF0F8\"},\"line\":{\"color\":\"white\"}},\"header\":{\"fill\":{\"color\":\"#C8D4E3\"},\"line\":{\"color\":\"white\"}},\"type\":\"table\"}],\"barpolar\":[{\"marker\":{\"line\":{\"color\":\"#E5ECF6\",\"width\":0.5},\"pattern\":{\"fillmode\":\"overlay\",\"size\":10,\"solidity\":0.2}},\"type\":\"barpolar\"}],\"pie\":[{\"automargin\":true,\"type\":\"pie\"}]},\"layout\":{\"autotypenumbers\":\"strict\",\"colorway\":[\"#636efa\",\"#EF553B\",\"#00cc96\",\"#ab63fa\",\"#FFA15A\",\"#19d3f3\",\"#FF6692\",\"#B6E880\",\"#FF97FF\",\"#FECB52\"],\"font\":{\"color\":\"#2a3f5f\"},\"hovermode\":\"closest\",\"hoverlabel\":{\"align\":\"left\"},\"paper_bgcolor\":\"white\",\"plot_bgcolor\":\"#E5ECF6\",\"polar\":{\"bgcolor\":\"#E5ECF6\",\"angularaxis\":{\"gridcolor\":\"white\",\"linecolor\":\"white\",\"ticks\":\"\"},\"radialaxis\":{\"gridcolor\":\"white\",\"linecolor\":\"white\",\"ticks\":\"\"}},\"ternary\":{\"bgcolor\":\"#E5ECF6\",\"aaxis\":{\"gridcolor\":\"white\",\"linecolor\":\"white\",\"ticks\":\"\"},\"baxis\":{\"gridcolor\":\"white\",\"linecolor\":\"white\",\"ticks\":\"\"},\"caxis\":{\"gridcolor\":\"white\",\"linecolor\":\"white\",\"ticks\":\"\"}},\"coloraxis\":{\"colorbar\":{\"outlinewidth\":0,\"ticks\":\"\"}},\"colorscale\":{\"sequential\":[[0.0,\"#0d0887\"],[0.1111111111111111,\"#46039f\"],[0.2222222222222222,\"#7201a8\"],[0.3333333333333333,\"#9c179e\"],[0.4444444444444444,\"#bd3786\"],[0.5555555555555556,\"#d8576b\"],[0.6666666666666666,\"#ed7953\"],[0.7777777777777778,\"#fb9f3a\"],[0.8888888888888888,\"#fdca26\"],[1.0,\"#f0f921\"]],\"sequentialminus\":[[0.0,\"#0d0887\"],[0.1111111111111111,\"#46039f\"],[0.2222222222222222,\"#7201a8\"],[0.3333333333333333,\"#9c179e\"],[0.4444444444444444,\"#bd3786\"],[0.5555555555555556,\"#d8576b\"],[0.6666666666666666,\"#ed7953\"],[0.7777777777777778,\"#fb9f3a\"],[0.8888888888888888,\"#fdca26\"],[1.0,\"#f0f921\"]],\"diverging\":[[0,\"#8e0152\"],[0.1,\"#c51b7d\"],[0.2,\"#de77ae\"],[0.3,\"#f1b6da\"],[0.4,\"#fde0ef\"],[0.5,\"#f7f7f7\"],[0.6,\"#e6f5d0\"],[0.7,\"#b8e186\"],[0.8,\"#7fbc41\"],[0.9,\"#4d9221\"],[1,\"#276419\"]]},\"xaxis\":{\"gridcolor\":\"white\",\"linecolor\":\"white\",\"ticks\":\"\",\"title\":{\"standoff\":15},\"zerolinecolor\":\"white\",\"automargin\":true,\"zerolinewidth\":2},\"yaxis\":{\"gridcolor\":\"white\",\"linecolor\":\"white\",\"ticks\":\"\",\"title\":{\"standoff\":15},\"zerolinecolor\":\"white\",\"automargin\":true,\"zerolinewidth\":2},\"scene\":{\"xaxis\":{\"backgroundcolor\":\"#E5ECF6\",\"gridcolor\":\"white\",\"linecolor\":\"white\",\"showbackground\":true,\"ticks\":\"\",\"zerolinecolor\":\"white\",\"gridwidth\":2},\"yaxis\":{\"backgroundcolor\":\"#E5ECF6\",\"gridcolor\":\"white\",\"linecolor\":\"white\",\"showbackground\":true,\"ticks\":\"\",\"zerolinecolor\":\"white\",\"gridwidth\":2},\"zaxis\":{\"backgroundcolor\":\"#E5ECF6\",\"gridcolor\":\"white\",\"linecolor\":\"white\",\"showbackground\":true,\"ticks\":\"\",\"zerolinecolor\":\"white\",\"gridwidth\":2}},\"shapedefaults\":{\"line\":{\"color\":\"#2a3f5f\"}},\"annotationdefaults\":{\"arrowcolor\":\"#2a3f5f\",\"arrowhead\":0,\"arrowwidth\":1},\"geo\":{\"bgcolor\":\"white\",\"landcolor\":\"#E5ECF6\",\"subunitcolor\":\"white\",\"showland\":true,\"showlakes\":true,\"lakecolor\":\"white\"},\"title\":{\"x\":0.05},\"mapbox\":{\"style\":\"light\"}}},\"xaxis\":{\"anchor\":\"y\",\"domain\":[0.0,1.0],\"title\":{\"text\":\"Name of University\"}},\"yaxis\":{\"anchor\":\"x\",\"domain\":[0.0,1.0],\"title\":{\"text\":\"value\"}},\"coloraxis\":{\"colorbar\":{\"title\":{\"text\":\"GPA\"}},\"colorscale\":[[0.0,\"#0d0887\"],[0.1111111111111111,\"#46039f\"],[0.2222222222222222,\"#7201a8\"],[0.3333333333333333,\"#9c179e\"],[0.4444444444444444,\"#bd3786\"],[0.5555555555555556,\"#d8576b\"],[0.6666666666666666,\"#ed7953\"],[0.7777777777777778,\"#fb9f3a\"],[0.8888888888888888,\"#fdca26\"],[1.0,\"#f0f921\"]]},\"legend\":{\"tracegroupgap\":0},\"title\":{\"text\":\"Example 2 :Bar plot with hue that allows to see relations between variables\"},\"barmode\":\"relative\"},                        {\"responsive\": true}                    ).then(function(){\n",
       "                            \n",
       "var gd = document.getElementById('99063cc7-1ba6-4aba-8d3e-cdab40c0d68f');\n",
       "var x = new MutationObserver(function (mutations, observer) {{\n",
       "        var display = window.getComputedStyle(gd).display;\n",
       "        if (!display || display === 'none') {{\n",
       "            console.log([gd, 'removed!']);\n",
       "            Plotly.purge(gd);\n",
       "            observer.disconnect();\n",
       "        }}\n",
       "}});\n",
       "\n",
       "// Listen for the removal of the full notebook cells\n",
       "var notebookContainer = gd.closest('#notebook-container');\n",
       "if (notebookContainer) {{\n",
       "    x.observe(notebookContainer, {childList: true});\n",
       "}}\n",
       "\n",
       "// Listen for the clearing of the current output cell\n",
       "var outputEl = gd.closest('.output');\n",
       "if (outputEl) {{\n",
       "    x.observe(outputEl, {childList: true});\n",
       "}}\n",
       "\n",
       "                        })                };                });            </script>        </div>"
      ]
     },
     "metadata": {},
     "output_type": "display_data"
    }
   ],
   "source": [
    "px.bar(admission_df, \"Name of University\", [\"Interview\"], color=admission_df[\"GPA\"], title=\"Example 2 :Bar plot with hue that allows to see relations between variables\")"
   ]
  },
  {
   "cell_type": "code",
   "execution_count": 85,
   "metadata": {},
   "outputs": [],
   "source": [
    "correlation_matrix = admission_df.corr()"
   ]
  },
  {
   "cell_type": "code",
   "execution_count": 88,
   "metadata": {},
   "outputs": [
    {
     "data": {
      "text/html": [
       "<div>\n",
       "<style scoped>\n",
       "    .dataframe tbody tr th:only-of-type {\n",
       "        vertical-align: middle;\n",
       "    }\n",
       "\n",
       "    .dataframe tbody tr th {\n",
       "        vertical-align: top;\n",
       "    }\n",
       "\n",
       "    .dataframe thead th {\n",
       "        text-align: right;\n",
       "    }\n",
       "</style>\n",
       "<table border=\"1\" class=\"dataframe\">\n",
       "  <thead>\n",
       "    <tr style=\"text-align: right;\">\n",
       "      <th></th>\n",
       "      <th>Rigor</th>\n",
       "      <th>Rank</th>\n",
       "      <th>GPA</th>\n",
       "      <th>Test Score</th>\n",
       "      <th>Essay</th>\n",
       "      <th>Recommendation</th>\n",
       "      <th>Interview</th>\n",
       "      <th>Extracurricular</th>\n",
       "      <th>Talent</th>\n",
       "      <th>Personality</th>\n",
       "      <th>First Generation</th>\n",
       "      <th>Religious</th>\n",
       "      <th>State Residency</th>\n",
       "      <th>Race</th>\n",
       "      <th>Volunteer</th>\n",
       "      <th>Work Experience</th>\n",
       "      <th>Level of Interest</th>\n",
       "    </tr>\n",
       "  </thead>\n",
       "  <tbody>\n",
       "    <tr>\n",
       "      <th>Rigor</th>\n",
       "      <td>1.000000</td>\n",
       "      <td>0.536021</td>\n",
       "      <td>0.639234</td>\n",
       "      <td>0.341663</td>\n",
       "      <td>0.466974</td>\n",
       "      <td>0.450914</td>\n",
       "      <td>-0.187366</td>\n",
       "      <td>0.349372</td>\n",
       "      <td>0.423287</td>\n",
       "      <td>0.620661</td>\n",
       "      <td>0.062124</td>\n",
       "      <td>0.140720</td>\n",
       "      <td>0.255562</td>\n",
       "      <td>0.062124</td>\n",
       "      <td>0.143711</td>\n",
       "      <td>0.105523</td>\n",
       "      <td>0.233628</td>\n",
       "    </tr>\n",
       "    <tr>\n",
       "      <th>Rank</th>\n",
       "      <td>0.536021</td>\n",
       "      <td>1.000000</td>\n",
       "      <td>0.563018</td>\n",
       "      <td>0.171677</td>\n",
       "      <td>0.239897</td>\n",
       "      <td>0.205475</td>\n",
       "      <td>0.083908</td>\n",
       "      <td>0.218391</td>\n",
       "      <td>0.438471</td>\n",
       "      <td>0.422219</td>\n",
       "      <td>-0.005603</td>\n",
       "      <td>0.115045</td>\n",
       "      <td>0.295022</td>\n",
       "      <td>-0.005603</td>\n",
       "      <td>0.185773</td>\n",
       "      <td>0.209372</td>\n",
       "      <td>0.248163</td>\n",
       "    </tr>\n",
       "    <tr>\n",
       "      <th>GPA</th>\n",
       "      <td>0.639234</td>\n",
       "      <td>0.563018</td>\n",
       "      <td>1.000000</td>\n",
       "      <td>0.520714</td>\n",
       "      <td>0.622094</td>\n",
       "      <td>0.594473</td>\n",
       "      <td>-0.172319</td>\n",
       "      <td>0.321314</td>\n",
       "      <td>0.544860</td>\n",
       "      <td>0.259916</td>\n",
       "      <td>-0.067172</td>\n",
       "      <td>0.050899</td>\n",
       "      <td>0.147375</td>\n",
       "      <td>-0.067172</td>\n",
       "      <td>0.109347</td>\n",
       "      <td>0.177486</td>\n",
       "      <td>-0.037424</td>\n",
       "    </tr>\n",
       "    <tr>\n",
       "      <th>Test Score</th>\n",
       "      <td>0.341663</td>\n",
       "      <td>0.171677</td>\n",
       "      <td>0.520714</td>\n",
       "      <td>1.000000</td>\n",
       "      <td>0.715626</td>\n",
       "      <td>0.672247</td>\n",
       "      <td>-0.177163</td>\n",
       "      <td>0.402027</td>\n",
       "      <td>0.375426</td>\n",
       "      <td>0.409803</td>\n",
       "      <td>-0.332126</td>\n",
       "      <td>0.098161</td>\n",
       "      <td>0.154258</td>\n",
       "      <td>-0.455334</td>\n",
       "      <td>-0.293278</td>\n",
       "      <td>-0.040946</td>\n",
       "      <td>-0.219363</td>\n",
       "    </tr>\n",
       "    <tr>\n",
       "      <th>Essay</th>\n",
       "      <td>0.466974</td>\n",
       "      <td>0.239897</td>\n",
       "      <td>0.622094</td>\n",
       "      <td>0.715626</td>\n",
       "      <td>1.000000</td>\n",
       "      <td>0.959114</td>\n",
       "      <td>-0.097157</td>\n",
       "      <td>0.528396</td>\n",
       "      <td>0.450874</td>\n",
       "      <td>0.703704</td>\n",
       "      <td>-0.441149</td>\n",
       "      <td>0.193022</td>\n",
       "      <td>0.149453</td>\n",
       "      <td>-0.291937</td>\n",
       "      <td>-0.330165</td>\n",
       "      <td>-0.242433</td>\n",
       "      <td>-0.162650</td>\n",
       "    </tr>\n",
       "    <tr>\n",
       "      <th>Recommendation</th>\n",
       "      <td>0.450914</td>\n",
       "      <td>0.205475</td>\n",
       "      <td>0.594473</td>\n",
       "      <td>0.672247</td>\n",
       "      <td>0.959114</td>\n",
       "      <td>1.000000</td>\n",
       "      <td>-0.105646</td>\n",
       "      <td>0.458386</td>\n",
       "      <td>0.570445</td>\n",
       "      <td>0.665432</td>\n",
       "      <td>-0.429769</td>\n",
       "      <td>0.224055</td>\n",
       "      <td>0.080362</td>\n",
       "      <td>-0.280001</td>\n",
       "      <td>-0.301268</td>\n",
       "      <td>-0.221214</td>\n",
       "      <td>-0.114279</td>\n",
       "    </tr>\n",
       "    <tr>\n",
       "      <th>Interview</th>\n",
       "      <td>-0.187366</td>\n",
       "      <td>0.083908</td>\n",
       "      <td>-0.172319</td>\n",
       "      <td>-0.177163</td>\n",
       "      <td>-0.097157</td>\n",
       "      <td>-0.105646</td>\n",
       "      <td>1.000000</td>\n",
       "      <td>0.127885</td>\n",
       "      <td>0.161510</td>\n",
       "      <td>0.004048</td>\n",
       "      <td>-0.460912</td>\n",
       "      <td>-0.288675</td>\n",
       "      <td>0.116682</td>\n",
       "      <td>0.028364</td>\n",
       "      <td>-0.311666</td>\n",
       "      <td>-0.367363</td>\n",
       "      <td>0.242965</td>\n",
       "    </tr>\n",
       "    <tr>\n",
       "      <th>Extracurricular</th>\n",
       "      <td>0.349372</td>\n",
       "      <td>0.218391</td>\n",
       "      <td>0.321314</td>\n",
       "      <td>0.402027</td>\n",
       "      <td>0.528396</td>\n",
       "      <td>0.458386</td>\n",
       "      <td>0.127885</td>\n",
       "      <td>1.000000</td>\n",
       "      <td>0.320466</td>\n",
       "      <td>0.513299</td>\n",
       "      <td>-0.356998</td>\n",
       "      <td>0.077207</td>\n",
       "      <td>0.282843</td>\n",
       "      <td>-0.204943</td>\n",
       "      <td>-0.474095</td>\n",
       "      <td>-0.348117</td>\n",
       "      <td>0.055249</td>\n",
       "    </tr>\n",
       "    <tr>\n",
       "      <th>Talent</th>\n",
       "      <td>0.423287</td>\n",
       "      <td>0.438471</td>\n",
       "      <td>0.544860</td>\n",
       "      <td>0.375426</td>\n",
       "      <td>0.450874</td>\n",
       "      <td>0.570445</td>\n",
       "      <td>0.161510</td>\n",
       "      <td>0.320466</td>\n",
       "      <td>1.000000</td>\n",
       "      <td>0.420563</td>\n",
       "      <td>-0.106186</td>\n",
       "      <td>0.122484</td>\n",
       "      <td>0.316699</td>\n",
       "      <td>-0.258829</td>\n",
       "      <td>-0.127938</td>\n",
       "      <td>-0.050729</td>\n",
       "      <td>0.110926</td>\n",
       "    </tr>\n",
       "    <tr>\n",
       "      <th>Personality</th>\n",
       "      <td>0.620661</td>\n",
       "      <td>0.422219</td>\n",
       "      <td>0.259916</td>\n",
       "      <td>0.409803</td>\n",
       "      <td>0.703704</td>\n",
       "      <td>0.665432</td>\n",
       "      <td>0.004048</td>\n",
       "      <td>0.513299</td>\n",
       "      <td>0.420563</td>\n",
       "      <td>1.000000</td>\n",
       "      <td>-0.304912</td>\n",
       "      <td>0.326006</td>\n",
       "      <td>0.341607</td>\n",
       "      <td>-0.155700</td>\n",
       "      <td>-0.245123</td>\n",
       "      <td>-0.264472</td>\n",
       "      <td>0.162650</td>\n",
       "    </tr>\n",
       "    <tr>\n",
       "      <th>First Generation</th>\n",
       "      <td>0.062124</td>\n",
       "      <td>-0.005603</td>\n",
       "      <td>-0.067172</td>\n",
       "      <td>-0.332126</td>\n",
       "      <td>-0.441149</td>\n",
       "      <td>-0.429769</td>\n",
       "      <td>-0.460912</td>\n",
       "      <td>-0.356998</td>\n",
       "      <td>-0.106186</td>\n",
       "      <td>-0.304912</td>\n",
       "      <td>1.000000</td>\n",
       "      <td>-0.102869</td>\n",
       "      <td>0.028048</td>\n",
       "      <td>0.477273</td>\n",
       "      <td>0.701000</td>\n",
       "      <td>0.588720</td>\n",
       "      <td>-0.170941</td>\n",
       "    </tr>\n",
       "    <tr>\n",
       "      <th>Religious</th>\n",
       "      <td>0.140720</td>\n",
       "      <td>0.115045</td>\n",
       "      <td>0.050899</td>\n",
       "      <td>0.098161</td>\n",
       "      <td>0.193022</td>\n",
       "      <td>0.224055</td>\n",
       "      <td>-0.288675</td>\n",
       "      <td>0.077207</td>\n",
       "      <td>0.122484</td>\n",
       "      <td>0.326006</td>\n",
       "      <td>-0.102869</td>\n",
       "      <td>1.000000</td>\n",
       "      <td>0.087163</td>\n",
       "      <td>-0.102869</td>\n",
       "      <td>-0.019920</td>\n",
       "      <td>-0.175075</td>\n",
       "      <td>0.326860</td>\n",
       "    </tr>\n",
       "    <tr>\n",
       "      <th>State Residency</th>\n",
       "      <td>0.255562</td>\n",
       "      <td>0.295022</td>\n",
       "      <td>0.147375</td>\n",
       "      <td>0.154258</td>\n",
       "      <td>0.149453</td>\n",
       "      <td>0.080362</td>\n",
       "      <td>0.116682</td>\n",
       "      <td>0.282843</td>\n",
       "      <td>0.316699</td>\n",
       "      <td>0.341607</td>\n",
       "      <td>0.028048</td>\n",
       "      <td>0.087163</td>\n",
       "      <td>1.000000</td>\n",
       "      <td>-0.402027</td>\n",
       "      <td>-0.266747</td>\n",
       "      <td>-0.134989</td>\n",
       "      <td>-0.164083</td>\n",
       "    </tr>\n",
       "    <tr>\n",
       "      <th>Race</th>\n",
       "      <td>0.062124</td>\n",
       "      <td>-0.005603</td>\n",
       "      <td>-0.067172</td>\n",
       "      <td>-0.455334</td>\n",
       "      <td>-0.291937</td>\n",
       "      <td>-0.280001</td>\n",
       "      <td>0.028364</td>\n",
       "      <td>-0.204943</td>\n",
       "      <td>-0.258829</td>\n",
       "      <td>-0.155700</td>\n",
       "      <td>0.477273</td>\n",
       "      <td>-0.102869</td>\n",
       "      <td>-0.402027</td>\n",
       "      <td>1.000000</td>\n",
       "      <td>0.701000</td>\n",
       "      <td>0.366743</td>\n",
       "      <td>0.265908</td>\n",
       "    </tr>\n",
       "    <tr>\n",
       "      <th>Volunteer</th>\n",
       "      <td>0.143711</td>\n",
       "      <td>0.185773</td>\n",
       "      <td>0.109347</td>\n",
       "      <td>-0.293278</td>\n",
       "      <td>-0.330165</td>\n",
       "      <td>-0.301268</td>\n",
       "      <td>-0.311666</td>\n",
       "      <td>-0.474095</td>\n",
       "      <td>-0.127938</td>\n",
       "      <td>-0.245123</td>\n",
       "      <td>0.701000</td>\n",
       "      <td>-0.019920</td>\n",
       "      <td>-0.266747</td>\n",
       "      <td>0.701000</td>\n",
       "      <td>1.000000</td>\n",
       "      <td>0.848387</td>\n",
       "      <td>0.109844</td>\n",
       "    </tr>\n",
       "    <tr>\n",
       "      <th>Work Experience</th>\n",
       "      <td>0.105523</td>\n",
       "      <td>0.209372</td>\n",
       "      <td>0.177486</td>\n",
       "      <td>-0.040946</td>\n",
       "      <td>-0.242433</td>\n",
       "      <td>-0.221214</td>\n",
       "      <td>-0.367363</td>\n",
       "      <td>-0.348117</td>\n",
       "      <td>-0.050729</td>\n",
       "      <td>-0.264472</td>\n",
       "      <td>0.588720</td>\n",
       "      <td>-0.175075</td>\n",
       "      <td>-0.134989</td>\n",
       "      <td>0.366743</td>\n",
       "      <td>0.848387</td>\n",
       "      <td>1.000000</td>\n",
       "      <td>-0.104852</td>\n",
       "    </tr>\n",
       "    <tr>\n",
       "      <th>Level of Interest</th>\n",
       "      <td>0.233628</td>\n",
       "      <td>0.248163</td>\n",
       "      <td>-0.037424</td>\n",
       "      <td>-0.219363</td>\n",
       "      <td>-0.162650</td>\n",
       "      <td>-0.114279</td>\n",
       "      <td>0.242965</td>\n",
       "      <td>0.055249</td>\n",
       "      <td>0.110926</td>\n",
       "      <td>0.162650</td>\n",
       "      <td>-0.170941</td>\n",
       "      <td>0.326860</td>\n",
       "      <td>-0.164083</td>\n",
       "      <td>0.265908</td>\n",
       "      <td>0.109844</td>\n",
       "      <td>-0.104852</td>\n",
       "      <td>1.000000</td>\n",
       "    </tr>\n",
       "  </tbody>\n",
       "</table>\n",
       "</div>"
      ],
      "text/plain": [
       "                      Rigor      Rank       GPA  Test Score     Essay  \\\n",
       "Rigor              1.000000  0.536021  0.639234    0.341663  0.466974   \n",
       "Rank               0.536021  1.000000  0.563018    0.171677  0.239897   \n",
       "GPA                0.639234  0.563018  1.000000    0.520714  0.622094   \n",
       "Test Score         0.341663  0.171677  0.520714    1.000000  0.715626   \n",
       "Essay              0.466974  0.239897  0.622094    0.715626  1.000000   \n",
       "Recommendation     0.450914  0.205475  0.594473    0.672247  0.959114   \n",
       "Interview         -0.187366  0.083908 -0.172319   -0.177163 -0.097157   \n",
       "Extracurricular    0.349372  0.218391  0.321314    0.402027  0.528396   \n",
       "Talent             0.423287  0.438471  0.544860    0.375426  0.450874   \n",
       "Personality        0.620661  0.422219  0.259916    0.409803  0.703704   \n",
       "First Generation   0.062124 -0.005603 -0.067172   -0.332126 -0.441149   \n",
       "Religious          0.140720  0.115045  0.050899    0.098161  0.193022   \n",
       "State Residency    0.255562  0.295022  0.147375    0.154258  0.149453   \n",
       "Race               0.062124 -0.005603 -0.067172   -0.455334 -0.291937   \n",
       "Volunteer          0.143711  0.185773  0.109347   -0.293278 -0.330165   \n",
       "Work Experience    0.105523  0.209372  0.177486   -0.040946 -0.242433   \n",
       "Level of Interest  0.233628  0.248163 -0.037424   -0.219363 -0.162650   \n",
       "\n",
       "                   Recommendation  Interview  Extracurricular    Talent  \\\n",
       "Rigor                    0.450914  -0.187366         0.349372  0.423287   \n",
       "Rank                     0.205475   0.083908         0.218391  0.438471   \n",
       "GPA                      0.594473  -0.172319         0.321314  0.544860   \n",
       "Test Score               0.672247  -0.177163         0.402027  0.375426   \n",
       "Essay                    0.959114  -0.097157         0.528396  0.450874   \n",
       "Recommendation           1.000000  -0.105646         0.458386  0.570445   \n",
       "Interview               -0.105646   1.000000         0.127885  0.161510   \n",
       "Extracurricular          0.458386   0.127885         1.000000  0.320466   \n",
       "Talent                   0.570445   0.161510         0.320466  1.000000   \n",
       "Personality              0.665432   0.004048         0.513299  0.420563   \n",
       "First Generation        -0.429769  -0.460912        -0.356998 -0.106186   \n",
       "Religious                0.224055  -0.288675         0.077207  0.122484   \n",
       "State Residency          0.080362   0.116682         0.282843  0.316699   \n",
       "Race                    -0.280001   0.028364        -0.204943 -0.258829   \n",
       "Volunteer               -0.301268  -0.311666        -0.474095 -0.127938   \n",
       "Work Experience         -0.221214  -0.367363        -0.348117 -0.050729   \n",
       "Level of Interest       -0.114279   0.242965         0.055249  0.110926   \n",
       "\n",
       "                   Personality  First Generation  Religious  State Residency  \\\n",
       "Rigor                 0.620661          0.062124   0.140720         0.255562   \n",
       "Rank                  0.422219         -0.005603   0.115045         0.295022   \n",
       "GPA                   0.259916         -0.067172   0.050899         0.147375   \n",
       "Test Score            0.409803         -0.332126   0.098161         0.154258   \n",
       "Essay                 0.703704         -0.441149   0.193022         0.149453   \n",
       "Recommendation        0.665432         -0.429769   0.224055         0.080362   \n",
       "Interview             0.004048         -0.460912  -0.288675         0.116682   \n",
       "Extracurricular       0.513299         -0.356998   0.077207         0.282843   \n",
       "Talent                0.420563         -0.106186   0.122484         0.316699   \n",
       "Personality           1.000000         -0.304912   0.326006         0.341607   \n",
       "First Generation     -0.304912          1.000000  -0.102869         0.028048   \n",
       "Religious             0.326006         -0.102869   1.000000         0.087163   \n",
       "State Residency       0.341607          0.028048   0.087163         1.000000   \n",
       "Race                 -0.155700          0.477273  -0.102869        -0.402027   \n",
       "Volunteer            -0.245123          0.701000  -0.019920        -0.266747   \n",
       "Work Experience      -0.264472          0.588720  -0.175075        -0.134989   \n",
       "Level of Interest     0.162650         -0.170941   0.326860        -0.164083   \n",
       "\n",
       "                       Race  Volunteer  Work Experience  Level of Interest  \n",
       "Rigor              0.062124   0.143711         0.105523           0.233628  \n",
       "Rank              -0.005603   0.185773         0.209372           0.248163  \n",
       "GPA               -0.067172   0.109347         0.177486          -0.037424  \n",
       "Test Score        -0.455334  -0.293278        -0.040946          -0.219363  \n",
       "Essay             -0.291937  -0.330165        -0.242433          -0.162650  \n",
       "Recommendation    -0.280001  -0.301268        -0.221214          -0.114279  \n",
       "Interview          0.028364  -0.311666        -0.367363           0.242965  \n",
       "Extracurricular   -0.204943  -0.474095        -0.348117           0.055249  \n",
       "Talent            -0.258829  -0.127938        -0.050729           0.110926  \n",
       "Personality       -0.155700  -0.245123        -0.264472           0.162650  \n",
       "First Generation   0.477273   0.701000         0.588720          -0.170941  \n",
       "Religious         -0.102869  -0.019920        -0.175075           0.326860  \n",
       "State Residency   -0.402027  -0.266747        -0.134989          -0.164083  \n",
       "Race               1.000000   0.701000         0.366743           0.265908  \n",
       "Volunteer          0.701000   1.000000         0.848387           0.109844  \n",
       "Work Experience    0.366743   0.848387         1.000000          -0.104852  \n",
       "Level of Interest  0.265908   0.109844        -0.104852           1.000000  "
      ]
     },
     "execution_count": 88,
     "metadata": {},
     "output_type": "execute_result"
    }
   ],
   "source": [
    "correlation_matrix.head(23)"
   ]
  },
  {
   "cell_type": "code",
   "execution_count": 84,
   "metadata": {},
   "outputs": [
    {
     "data": {
      "application/vnd.plotly.v1+json": {
       "config": {
        "plotlyServerURL": "https://plot.ly"
       },
       "data": [
        {
         "coloraxis": "coloraxis",
         "hovertemplate": "x: %{x}<br>y: %{y}<br>color: %{z}<extra></extra>",
         "name": "0",
         "type": "heatmap",
         "x": [
          "Rigor",
          "Rank",
          "GPA",
          "Test Score",
          "Essay",
          "Recommendation",
          "Interview",
          "Extracurricular",
          "Talent",
          "Personality",
          "First Generation",
          "Religious",
          "State Residency",
          "Race",
          "Volunteer",
          "Work Experience",
          "Level of Interest"
         ],
         "xaxis": "x",
         "y": [
          "Rigor",
          "Rank",
          "GPA",
          "Test Score",
          "Essay",
          "Recommendation",
          "Interview",
          "Extracurricular",
          "Talent",
          "Personality",
          "First Generation",
          "Religious",
          "State Residency",
          "Race",
          "Volunteer",
          "Work Experience",
          "Level of Interest"
         ],
         "yaxis": "y",
         "z": [
          [
           1,
           0.5360213413184176,
           0.6392339570097182,
           0.3416626573834966,
           0.46697354390350654,
           0.4509135256382221,
           -0.18736602604923322,
           0.3493722340284271,
           0.4232873155770772,
           0.6206610393654196,
           0.062123652492193635,
           0.14071950894605836,
           0.2555622163859943,
           0.06212365249219366,
           0.14371057093999037,
           0.10552330820287897,
           0.23362835924302416
          ],
          [
           0.5360213413184176,
           1,
           0.5630177175509158,
           0.1716767481463966,
           0.2398971541457279,
           0.20547467003596173,
           0.0839078777666494,
           0.21839055070946645,
           0.43847078316899835,
           0.42221899129648116,
           -0.00560279043629407,
           0.1150447483271055,
           0.2950217348847347,
           -0.005602790436294088,
           0.18577330719567273,
           0.20937193938732027,
           0.24816258924481918
          ],
          [
           0.6392339570097182,
           0.5630177175509158,
           1,
           0.520713741468924,
           0.6220938242873112,
           0.5944732533359351,
           -0.17231870444452677,
           0.321314231859992,
           0.5448601885061893,
           0.25991591288716415,
           -0.06717166132798484,
           0.05089865985592876,
           0.1473752252367224,
           -0.06717166132798483,
           0.1093471981850811,
           0.17748556290633885,
           -0.03742405942825602
          ],
          [
           0.3416626573834966,
           0.1716767481463966,
           0.520713741468924,
           1,
           0.7156264473321343,
           0.6722473901739283,
           -0.17716342067654842,
           0.4020272057036365,
           0.3754255278891391,
           0.40980317924147863,
           -0.3321259123754997,
           0.09816135651097467,
           0.15425838322648402,
           -0.455333912127701,
           -0.29327827828216074,
           -0.04094633178244606,
           -0.21936291798468696
          ],
          [
           0.46697354390350654,
           0.2398971541457279,
           0.6220938242873112,
           0.7156264473321343,
           1,
           0.9591144340027614,
           -0.09715723351145203,
           0.5283959492674778,
           0.4508740355388131,
           0.7037037037037035,
           -0.4411494016915296,
           0.19302200804786207,
           0.14945294355141464,
           -0.2919371040605711,
           -0.3301651238532152,
           -0.24243252179933825,
           -0.16265001215808886
          ],
          [
           0.4509135256382221,
           0.20547467003596173,
           0.5944732533359351,
           0.6722473901739283,
           0.9591144340027614,
           1,
           -0.10564567721266875,
           0.45838595182077263,
           0.5704453036868987,
           0.6654321073119933,
           -0.42976911538326396,
           0.22405535747411046,
           0.08036226816523599,
           -0.28000109032546,
           -0.3012679939775216,
           -0.22121403576796095,
           -0.11427905097845929
          ],
          [
           -0.18736602604923322,
           0.0839078777666494,
           -0.17231870444452677,
           -0.17716342067654842,
           -0.09715723351145203,
           -0.10564567721266875,
           1,
           0.1278853511395225,
           0.16151041552771445,
           0.004048218062977124,
           -0.4609117725853871,
           -0.2886751345948129,
           0.11668206323248918,
           0.028363801389869978,
           -0.3116662520498909,
           -0.3673632428705808,
           0.2429653626327158
          ],
          [
           0.3493722340284271,
           0.21839055070946645,
           0.321314231859992,
           0.4020272057036365,
           0.5283959492674778,
           0.45838595182077263,
           0.1278853511395225,
           1,
           0.32046570911959765,
           0.5132989221455498,
           -0.35699797260986277,
           0.07720684243534659,
           0.28284271247461895,
           -0.20494328057232875,
           -0.4740950456038453,
           -0.34811689416781266,
           0.05524946201098303
          ],
          [
           0.4232873155770772,
           0.43847078316899835,
           0.5448601885061893,
           0.3754255278891391,
           0.4508740355388131,
           0.5704453036868987,
           0.16151041552771445,
           0.32046570911959765,
           1,
           0.4205631760067919,
           -0.10618637464037975,
           0.12248405657990005,
           0.3166988340062877,
           -0.25882928818592577,
           -0.12793792361276174,
           -0.05072858414101052,
           0.11092638760662031
          ],
          [
           0.6206610393654196,
           0.42221899129648116,
           0.25991591288716415,
           0.40980317924147863,
           0.7037037037037035,
           0.6654321073119933,
           0.004048218062977124,
           0.5132989221455498,
           0.4205631760067919,
           1,
           -0.304912086463263,
           0.32600643128121715,
           0.3416067281175192,
           -0.15569978883230456,
           -0.24512259195162953,
           -0.26447184196291446,
           0.16265001215808877
          ],
          [
           0.062123652492193635,
           -0.00560279043629407,
           -0.06717166132798484,
           -0.3321259123754997,
           -0.4411494016915296,
           -0.42976911538326396,
           -0.4609117725853871,
           -0.35699797260986277,
           -0.10618637464037975,
           -0.304912086463263,
           1,
           -0.10286889997472812,
           0.028048409700253657,
           0.4772727272727273,
           0.7009996372327812,
           0.5887197203176642,
           -0.17094086468945688
          ],
          [
           0.14071950894605836,
           0.1150447483271055,
           0.05089865985592876,
           0.09816135651097467,
           0.19302200804786207,
           0.22405535747411046,
           -0.2886751345948129,
           0.07720684243534659,
           0.12248405657990005,
           0.32600643128121715,
           -0.10286889997472812,
           1,
           0.08716272672808181,
           -0.10286889997472799,
           -0.019920476822239904,
           -0.17507524381296344,
           0.32686022523030667
          ],
          [
           0.2555622163859943,
           0.2950217348847347,
           0.1473752252367224,
           0.15425838322648402,
           0.14945294355141464,
           0.08036226816523599,
           0.11668206323248918,
           0.28284271247461895,
           0.3166988340062877,
           0.3416067281175192,
           0.028048409700253657,
           0.08716272672808181,
           1,
           -0.40202720570363665,
           -0.2667467828369186,
           -0.13498867357091035,
           -0.1640825308284734
          ],
          [
           0.06212365249219366,
           -0.005602790436294088,
           -0.06717166132798483,
           -0.455333912127701,
           -0.2919371040605711,
           -0.28000109032546,
           0.028363801389869978,
           -0.20494328057232875,
           -0.25882928818592577,
           -0.15569978883230456,
           0.4772727272727273,
           -0.10286889997472799,
           -0.40202720570363665,
           1,
           0.7009996372327815,
           0.3667434323290367,
           0.26590801173915524
          ],
          [
           0.14371057093999037,
           0.18577330719567273,
           0.1093471981850811,
           -0.29327827828216074,
           -0.3301651238532152,
           -0.3012679939775216,
           -0.3116662520498909,
           -0.4740950456038453,
           -0.12793792361276174,
           -0.24512259195162953,
           0.7009996372327812,
           -0.019920476822239904,
           -0.2667467828369186,
           0.7009996372327815,
           1,
           0.8483871429665282,
           0.10984369379093667
          ],
          [
           0.10552330820287897,
           0.20937193938732027,
           0.17748556290633885,
           -0.04094633178244606,
           -0.24243252179933825,
           -0.22121403576796095,
           -0.3673632428705808,
           -0.34811689416781266,
           -0.05072858414101052,
           -0.26447184196291446,
           0.5887197203176642,
           -0.17507524381296344,
           -0.13498867357091035,
           0.3667434323290367,
           0.8483871429665282,
           1,
           -0.10485234900742933
          ],
          [
           0.23362835924302416,
           0.24816258924481918,
           -0.03742405942825602,
           -0.21936291798468696,
           -0.16265001215808886,
           -0.11427905097845929,
           0.2429653626327158,
           0.05524946201098303,
           0.11092638760662031,
           0.16265001215808877,
           -0.17094086468945688,
           0.32686022523030667,
           -0.1640825308284734,
           0.26590801173915524,
           0.10984369379093667,
           -0.10485234900742933,
           1
          ]
         ]
        }
       ],
       "layout": {
        "coloraxis": {
         "colorscale": [
          [
           0,
           "#0d0887"
          ],
          [
           0.1111111111111111,
           "#46039f"
          ],
          [
           0.2222222222222222,
           "#7201a8"
          ],
          [
           0.3333333333333333,
           "#9c179e"
          ],
          [
           0.4444444444444444,
           "#bd3786"
          ],
          [
           0.5555555555555556,
           "#d8576b"
          ],
          [
           0.6666666666666666,
           "#ed7953"
          ],
          [
           0.7777777777777778,
           "#fb9f3a"
          ],
          [
           0.8888888888888888,
           "#fdca26"
          ],
          [
           1,
           "#f0f921"
          ]
         ]
        },
        "template": {
         "data": {
          "bar": [
           {
            "error_x": {
             "color": "#2a3f5f"
            },
            "error_y": {
             "color": "#2a3f5f"
            },
            "marker": {
             "line": {
              "color": "#E5ECF6",
              "width": 0.5
             },
             "pattern": {
              "fillmode": "overlay",
              "size": 10,
              "solidity": 0.2
             }
            },
            "type": "bar"
           }
          ],
          "barpolar": [
           {
            "marker": {
             "line": {
              "color": "#E5ECF6",
              "width": 0.5
             },
             "pattern": {
              "fillmode": "overlay",
              "size": 10,
              "solidity": 0.2
             }
            },
            "type": "barpolar"
           }
          ],
          "carpet": [
           {
            "aaxis": {
             "endlinecolor": "#2a3f5f",
             "gridcolor": "white",
             "linecolor": "white",
             "minorgridcolor": "white",
             "startlinecolor": "#2a3f5f"
            },
            "baxis": {
             "endlinecolor": "#2a3f5f",
             "gridcolor": "white",
             "linecolor": "white",
             "minorgridcolor": "white",
             "startlinecolor": "#2a3f5f"
            },
            "type": "carpet"
           }
          ],
          "choropleth": [
           {
            "colorbar": {
             "outlinewidth": 0,
             "ticks": ""
            },
            "type": "choropleth"
           }
          ],
          "contour": [
           {
            "colorbar": {
             "outlinewidth": 0,
             "ticks": ""
            },
            "colorscale": [
             [
              0,
              "#0d0887"
             ],
             [
              0.1111111111111111,
              "#46039f"
             ],
             [
              0.2222222222222222,
              "#7201a8"
             ],
             [
              0.3333333333333333,
              "#9c179e"
             ],
             [
              0.4444444444444444,
              "#bd3786"
             ],
             [
              0.5555555555555556,
              "#d8576b"
             ],
             [
              0.6666666666666666,
              "#ed7953"
             ],
             [
              0.7777777777777778,
              "#fb9f3a"
             ],
             [
              0.8888888888888888,
              "#fdca26"
             ],
             [
              1,
              "#f0f921"
             ]
            ],
            "type": "contour"
           }
          ],
          "contourcarpet": [
           {
            "colorbar": {
             "outlinewidth": 0,
             "ticks": ""
            },
            "type": "contourcarpet"
           }
          ],
          "heatmap": [
           {
            "colorbar": {
             "outlinewidth": 0,
             "ticks": ""
            },
            "colorscale": [
             [
              0,
              "#0d0887"
             ],
             [
              0.1111111111111111,
              "#46039f"
             ],
             [
              0.2222222222222222,
              "#7201a8"
             ],
             [
              0.3333333333333333,
              "#9c179e"
             ],
             [
              0.4444444444444444,
              "#bd3786"
             ],
             [
              0.5555555555555556,
              "#d8576b"
             ],
             [
              0.6666666666666666,
              "#ed7953"
             ],
             [
              0.7777777777777778,
              "#fb9f3a"
             ],
             [
              0.8888888888888888,
              "#fdca26"
             ],
             [
              1,
              "#f0f921"
             ]
            ],
            "type": "heatmap"
           }
          ],
          "heatmapgl": [
           {
            "colorbar": {
             "outlinewidth": 0,
             "ticks": ""
            },
            "colorscale": [
             [
              0,
              "#0d0887"
             ],
             [
              0.1111111111111111,
              "#46039f"
             ],
             [
              0.2222222222222222,
              "#7201a8"
             ],
             [
              0.3333333333333333,
              "#9c179e"
             ],
             [
              0.4444444444444444,
              "#bd3786"
             ],
             [
              0.5555555555555556,
              "#d8576b"
             ],
             [
              0.6666666666666666,
              "#ed7953"
             ],
             [
              0.7777777777777778,
              "#fb9f3a"
             ],
             [
              0.8888888888888888,
              "#fdca26"
             ],
             [
              1,
              "#f0f921"
             ]
            ],
            "type": "heatmapgl"
           }
          ],
          "histogram": [
           {
            "marker": {
             "pattern": {
              "fillmode": "overlay",
              "size": 10,
              "solidity": 0.2
             }
            },
            "type": "histogram"
           }
          ],
          "histogram2d": [
           {
            "colorbar": {
             "outlinewidth": 0,
             "ticks": ""
            },
            "colorscale": [
             [
              0,
              "#0d0887"
             ],
             [
              0.1111111111111111,
              "#46039f"
             ],
             [
              0.2222222222222222,
              "#7201a8"
             ],
             [
              0.3333333333333333,
              "#9c179e"
             ],
             [
              0.4444444444444444,
              "#bd3786"
             ],
             [
              0.5555555555555556,
              "#d8576b"
             ],
             [
              0.6666666666666666,
              "#ed7953"
             ],
             [
              0.7777777777777778,
              "#fb9f3a"
             ],
             [
              0.8888888888888888,
              "#fdca26"
             ],
             [
              1,
              "#f0f921"
             ]
            ],
            "type": "histogram2d"
           }
          ],
          "histogram2dcontour": [
           {
            "colorbar": {
             "outlinewidth": 0,
             "ticks": ""
            },
            "colorscale": [
             [
              0,
              "#0d0887"
             ],
             [
              0.1111111111111111,
              "#46039f"
             ],
             [
              0.2222222222222222,
              "#7201a8"
             ],
             [
              0.3333333333333333,
              "#9c179e"
             ],
             [
              0.4444444444444444,
              "#bd3786"
             ],
             [
              0.5555555555555556,
              "#d8576b"
             ],
             [
              0.6666666666666666,
              "#ed7953"
             ],
             [
              0.7777777777777778,
              "#fb9f3a"
             ],
             [
              0.8888888888888888,
              "#fdca26"
             ],
             [
              1,
              "#f0f921"
             ]
            ],
            "type": "histogram2dcontour"
           }
          ],
          "mesh3d": [
           {
            "colorbar": {
             "outlinewidth": 0,
             "ticks": ""
            },
            "type": "mesh3d"
           }
          ],
          "parcoords": [
           {
            "line": {
             "colorbar": {
              "outlinewidth": 0,
              "ticks": ""
             }
            },
            "type": "parcoords"
           }
          ],
          "pie": [
           {
            "automargin": true,
            "type": "pie"
           }
          ],
          "scatter": [
           {
            "fillpattern": {
             "fillmode": "overlay",
             "size": 10,
             "solidity": 0.2
            },
            "type": "scatter"
           }
          ],
          "scatter3d": [
           {
            "line": {
             "colorbar": {
              "outlinewidth": 0,
              "ticks": ""
             }
            },
            "marker": {
             "colorbar": {
              "outlinewidth": 0,
              "ticks": ""
             }
            },
            "type": "scatter3d"
           }
          ],
          "scattercarpet": [
           {
            "marker": {
             "colorbar": {
              "outlinewidth": 0,
              "ticks": ""
             }
            },
            "type": "scattercarpet"
           }
          ],
          "scattergeo": [
           {
            "marker": {
             "colorbar": {
              "outlinewidth": 0,
              "ticks": ""
             }
            },
            "type": "scattergeo"
           }
          ],
          "scattergl": [
           {
            "marker": {
             "colorbar": {
              "outlinewidth": 0,
              "ticks": ""
             }
            },
            "type": "scattergl"
           }
          ],
          "scattermapbox": [
           {
            "marker": {
             "colorbar": {
              "outlinewidth": 0,
              "ticks": ""
             }
            },
            "type": "scattermapbox"
           }
          ],
          "scatterpolar": [
           {
            "marker": {
             "colorbar": {
              "outlinewidth": 0,
              "ticks": ""
             }
            },
            "type": "scatterpolar"
           }
          ],
          "scatterpolargl": [
           {
            "marker": {
             "colorbar": {
              "outlinewidth": 0,
              "ticks": ""
             }
            },
            "type": "scatterpolargl"
           }
          ],
          "scatterternary": [
           {
            "marker": {
             "colorbar": {
              "outlinewidth": 0,
              "ticks": ""
             }
            },
            "type": "scatterternary"
           }
          ],
          "surface": [
           {
            "colorbar": {
             "outlinewidth": 0,
             "ticks": ""
            },
            "colorscale": [
             [
              0,
              "#0d0887"
             ],
             [
              0.1111111111111111,
              "#46039f"
             ],
             [
              0.2222222222222222,
              "#7201a8"
             ],
             [
              0.3333333333333333,
              "#9c179e"
             ],
             [
              0.4444444444444444,
              "#bd3786"
             ],
             [
              0.5555555555555556,
              "#d8576b"
             ],
             [
              0.6666666666666666,
              "#ed7953"
             ],
             [
              0.7777777777777778,
              "#fb9f3a"
             ],
             [
              0.8888888888888888,
              "#fdca26"
             ],
             [
              1,
              "#f0f921"
             ]
            ],
            "type": "surface"
           }
          ],
          "table": [
           {
            "cells": {
             "fill": {
              "color": "#EBF0F8"
             },
             "line": {
              "color": "white"
             }
            },
            "header": {
             "fill": {
              "color": "#C8D4E3"
             },
             "line": {
              "color": "white"
             }
            },
            "type": "table"
           }
          ]
         },
         "layout": {
          "annotationdefaults": {
           "arrowcolor": "#2a3f5f",
           "arrowhead": 0,
           "arrowwidth": 1
          },
          "autotypenumbers": "strict",
          "coloraxis": {
           "colorbar": {
            "outlinewidth": 0,
            "ticks": ""
           }
          },
          "colorscale": {
           "diverging": [
            [
             0,
             "#8e0152"
            ],
            [
             0.1,
             "#c51b7d"
            ],
            [
             0.2,
             "#de77ae"
            ],
            [
             0.3,
             "#f1b6da"
            ],
            [
             0.4,
             "#fde0ef"
            ],
            [
             0.5,
             "#f7f7f7"
            ],
            [
             0.6,
             "#e6f5d0"
            ],
            [
             0.7,
             "#b8e186"
            ],
            [
             0.8,
             "#7fbc41"
            ],
            [
             0.9,
             "#4d9221"
            ],
            [
             1,
             "#276419"
            ]
           ],
           "sequential": [
            [
             0,
             "#0d0887"
            ],
            [
             0.1111111111111111,
             "#46039f"
            ],
            [
             0.2222222222222222,
             "#7201a8"
            ],
            [
             0.3333333333333333,
             "#9c179e"
            ],
            [
             0.4444444444444444,
             "#bd3786"
            ],
            [
             0.5555555555555556,
             "#d8576b"
            ],
            [
             0.6666666666666666,
             "#ed7953"
            ],
            [
             0.7777777777777778,
             "#fb9f3a"
            ],
            [
             0.8888888888888888,
             "#fdca26"
            ],
            [
             1,
             "#f0f921"
            ]
           ],
           "sequentialminus": [
            [
             0,
             "#0d0887"
            ],
            [
             0.1111111111111111,
             "#46039f"
            ],
            [
             0.2222222222222222,
             "#7201a8"
            ],
            [
             0.3333333333333333,
             "#9c179e"
            ],
            [
             0.4444444444444444,
             "#bd3786"
            ],
            [
             0.5555555555555556,
             "#d8576b"
            ],
            [
             0.6666666666666666,
             "#ed7953"
            ],
            [
             0.7777777777777778,
             "#fb9f3a"
            ],
            [
             0.8888888888888888,
             "#fdca26"
            ],
            [
             1,
             "#f0f921"
            ]
           ]
          },
          "colorway": [
           "#636efa",
           "#EF553B",
           "#00cc96",
           "#ab63fa",
           "#FFA15A",
           "#19d3f3",
           "#FF6692",
           "#B6E880",
           "#FF97FF",
           "#FECB52"
          ],
          "font": {
           "color": "#2a3f5f"
          },
          "geo": {
           "bgcolor": "white",
           "lakecolor": "white",
           "landcolor": "#E5ECF6",
           "showlakes": true,
           "showland": true,
           "subunitcolor": "white"
          },
          "hoverlabel": {
           "align": "left"
          },
          "hovermode": "closest",
          "mapbox": {
           "style": "light"
          },
          "paper_bgcolor": "white",
          "plot_bgcolor": "#E5ECF6",
          "polar": {
           "angularaxis": {
            "gridcolor": "white",
            "linecolor": "white",
            "ticks": ""
           },
           "bgcolor": "#E5ECF6",
           "radialaxis": {
            "gridcolor": "white",
            "linecolor": "white",
            "ticks": ""
           }
          },
          "scene": {
           "xaxis": {
            "backgroundcolor": "#E5ECF6",
            "gridcolor": "white",
            "gridwidth": 2,
            "linecolor": "white",
            "showbackground": true,
            "ticks": "",
            "zerolinecolor": "white"
           },
           "yaxis": {
            "backgroundcolor": "#E5ECF6",
            "gridcolor": "white",
            "gridwidth": 2,
            "linecolor": "white",
            "showbackground": true,
            "ticks": "",
            "zerolinecolor": "white"
           },
           "zaxis": {
            "backgroundcolor": "#E5ECF6",
            "gridcolor": "white",
            "gridwidth": 2,
            "linecolor": "white",
            "showbackground": true,
            "ticks": "",
            "zerolinecolor": "white"
           }
          },
          "shapedefaults": {
           "line": {
            "color": "#2a3f5f"
           }
          },
          "ternary": {
           "aaxis": {
            "gridcolor": "white",
            "linecolor": "white",
            "ticks": ""
           },
           "baxis": {
            "gridcolor": "white",
            "linecolor": "white",
            "ticks": ""
           },
           "bgcolor": "#E5ECF6",
           "caxis": {
            "gridcolor": "white",
            "linecolor": "white",
            "ticks": ""
           }
          },
          "title": {
           "x": 0.05
          },
          "xaxis": {
           "automargin": true,
           "gridcolor": "white",
           "linecolor": "white",
           "ticks": "",
           "title": {
            "standoff": 15
           },
           "zerolinecolor": "white",
           "zerolinewidth": 2
          },
          "yaxis": {
           "automargin": true,
           "gridcolor": "white",
           "linecolor": "white",
           "ticks": "",
           "title": {
            "standoff": 15
           },
           "zerolinecolor": "white",
           "zerolinewidth": 2
          }
         }
        },
        "title": {
         "text": "Example 3: Correlation matrix displayed as heatmap for quicker detection of correlations between variables"
        },
        "xaxis": {
         "anchor": "y",
         "constrain": "domain",
         "domain": [
          0,
          1
         ],
         "scaleanchor": "y"
        },
        "yaxis": {
         "anchor": "x",
         "autorange": "reversed",
         "constrain": "domain",
         "domain": [
          0,
          1
         ]
        }
       }
      },
      "text/html": [
       "<div>                            <div id=\"85f151d7-0d9e-47d4-b9d4-03418f89b3f7\" class=\"plotly-graph-div\" style=\"height:525px; width:100%;\"></div>            <script type=\"text/javascript\">                require([\"plotly\"], function(Plotly) {                    window.PLOTLYENV=window.PLOTLYENV || {};                                    if (document.getElementById(\"85f151d7-0d9e-47d4-b9d4-03418f89b3f7\")) {                    Plotly.newPlot(                        \"85f151d7-0d9e-47d4-b9d4-03418f89b3f7\",                        [{\"coloraxis\":\"coloraxis\",\"name\":\"0\",\"x\":[\"Rigor\",\"Rank\",\"GPA\",\"Test Score\",\"Essay\",\"Recommendation\",\"Interview\",\"Extracurricular\",\"Talent\",\"Personality\",\"First Generation\",\"Religious\",\"State Residency\",\"Race\",\"Volunteer\",\"Work Experience\",\"Level of Interest\"],\"y\":[\"Rigor\",\"Rank\",\"GPA\",\"Test Score\",\"Essay\",\"Recommendation\",\"Interview\",\"Extracurricular\",\"Talent\",\"Personality\",\"First Generation\",\"Religious\",\"State Residency\",\"Race\",\"Volunteer\",\"Work Experience\",\"Level of Interest\"],\"z\":[[1.0,0.5360213413184176,0.6392339570097182,0.3416626573834966,0.46697354390350654,0.4509135256382221,-0.18736602604923322,0.3493722340284271,0.4232873155770772,0.6206610393654196,0.062123652492193635,0.14071950894605836,0.2555622163859943,0.06212365249219366,0.14371057093999037,0.10552330820287897,0.23362835924302416],[0.5360213413184176,1.0,0.5630177175509158,0.1716767481463966,0.2398971541457279,0.20547467003596173,0.0839078777666494,0.21839055070946645,0.43847078316899835,0.42221899129648116,-0.00560279043629407,0.1150447483271055,0.2950217348847347,-0.005602790436294088,0.18577330719567273,0.20937193938732027,0.24816258924481918],[0.6392339570097182,0.5630177175509158,1.0,0.520713741468924,0.6220938242873112,0.5944732533359351,-0.17231870444452677,0.321314231859992,0.5448601885061893,0.25991591288716415,-0.06717166132798484,0.05089865985592876,0.1473752252367224,-0.06717166132798483,0.1093471981850811,0.17748556290633885,-0.03742405942825602],[0.3416626573834966,0.1716767481463966,0.520713741468924,1.0,0.7156264473321343,0.6722473901739283,-0.17716342067654842,0.4020272057036365,0.3754255278891391,0.40980317924147863,-0.3321259123754997,0.09816135651097467,0.15425838322648402,-0.455333912127701,-0.29327827828216074,-0.04094633178244606,-0.21936291798468696],[0.46697354390350654,0.2398971541457279,0.6220938242873112,0.7156264473321343,1.0,0.9591144340027614,-0.09715723351145203,0.5283959492674778,0.4508740355388131,0.7037037037037035,-0.4411494016915296,0.19302200804786207,0.14945294355141464,-0.2919371040605711,-0.3301651238532152,-0.24243252179933825,-0.16265001215808886],[0.4509135256382221,0.20547467003596173,0.5944732533359351,0.6722473901739283,0.9591144340027614,1.0,-0.10564567721266875,0.45838595182077263,0.5704453036868987,0.6654321073119933,-0.42976911538326396,0.22405535747411046,0.08036226816523599,-0.28000109032546,-0.3012679939775216,-0.22121403576796095,-0.11427905097845929],[-0.18736602604923322,0.0839078777666494,-0.17231870444452677,-0.17716342067654842,-0.09715723351145203,-0.10564567721266875,1.0,0.1278853511395225,0.16151041552771445,0.004048218062977124,-0.4609117725853871,-0.2886751345948129,0.11668206323248918,0.028363801389869978,-0.3116662520498909,-0.3673632428705808,0.2429653626327158],[0.3493722340284271,0.21839055070946645,0.321314231859992,0.4020272057036365,0.5283959492674778,0.45838595182077263,0.1278853511395225,1.0,0.32046570911959765,0.5132989221455498,-0.35699797260986277,0.07720684243534659,0.28284271247461895,-0.20494328057232875,-0.4740950456038453,-0.34811689416781266,0.05524946201098303],[0.4232873155770772,0.43847078316899835,0.5448601885061893,0.3754255278891391,0.4508740355388131,0.5704453036868987,0.16151041552771445,0.32046570911959765,1.0,0.4205631760067919,-0.10618637464037975,0.12248405657990005,0.3166988340062877,-0.25882928818592577,-0.12793792361276174,-0.05072858414101052,0.11092638760662031],[0.6206610393654196,0.42221899129648116,0.25991591288716415,0.40980317924147863,0.7037037037037035,0.6654321073119933,0.004048218062977124,0.5132989221455498,0.4205631760067919,1.0,-0.304912086463263,0.32600643128121715,0.3416067281175192,-0.15569978883230456,-0.24512259195162953,-0.26447184196291446,0.16265001215808877],[0.062123652492193635,-0.00560279043629407,-0.06717166132798484,-0.3321259123754997,-0.4411494016915296,-0.42976911538326396,-0.4609117725853871,-0.35699797260986277,-0.10618637464037975,-0.304912086463263,1.0,-0.10286889997472812,0.028048409700253657,0.4772727272727273,0.7009996372327812,0.5887197203176642,-0.17094086468945688],[0.14071950894605836,0.1150447483271055,0.05089865985592876,0.09816135651097467,0.19302200804786207,0.22405535747411046,-0.2886751345948129,0.07720684243534659,0.12248405657990005,0.32600643128121715,-0.10286889997472812,1.0,0.08716272672808181,-0.10286889997472799,-0.019920476822239904,-0.17507524381296344,0.32686022523030667],[0.2555622163859943,0.2950217348847347,0.1473752252367224,0.15425838322648402,0.14945294355141464,0.08036226816523599,0.11668206323248918,0.28284271247461895,0.3166988340062877,0.3416067281175192,0.028048409700253657,0.08716272672808181,1.0,-0.40202720570363665,-0.2667467828369186,-0.13498867357091035,-0.1640825308284734],[0.06212365249219366,-0.005602790436294088,-0.06717166132798483,-0.455333912127701,-0.2919371040605711,-0.28000109032546,0.028363801389869978,-0.20494328057232875,-0.25882928818592577,-0.15569978883230456,0.4772727272727273,-0.10286889997472799,-0.40202720570363665,1.0,0.7009996372327815,0.3667434323290367,0.26590801173915524],[0.14371057093999037,0.18577330719567273,0.1093471981850811,-0.29327827828216074,-0.3301651238532152,-0.3012679939775216,-0.3116662520498909,-0.4740950456038453,-0.12793792361276174,-0.24512259195162953,0.7009996372327812,-0.019920476822239904,-0.2667467828369186,0.7009996372327815,1.0,0.8483871429665282,0.10984369379093667],[0.10552330820287897,0.20937193938732027,0.17748556290633885,-0.04094633178244606,-0.24243252179933825,-0.22121403576796095,-0.3673632428705808,-0.34811689416781266,-0.05072858414101052,-0.26447184196291446,0.5887197203176642,-0.17507524381296344,-0.13498867357091035,0.3667434323290367,0.8483871429665282,1.0,-0.10485234900742933],[0.23362835924302416,0.24816258924481918,-0.03742405942825602,-0.21936291798468696,-0.16265001215808886,-0.11427905097845929,0.2429653626327158,0.05524946201098303,0.11092638760662031,0.16265001215808877,-0.17094086468945688,0.32686022523030667,-0.1640825308284734,0.26590801173915524,0.10984369379093667,-0.10485234900742933,1.0]],\"type\":\"heatmap\",\"xaxis\":\"x\",\"yaxis\":\"y\",\"hovertemplate\":\"x: %{x}<br>y: %{y}<br>color: %{z}<extra></extra>\"}],                        {\"template\":{\"data\":{\"histogram2dcontour\":[{\"type\":\"histogram2dcontour\",\"colorbar\":{\"outlinewidth\":0,\"ticks\":\"\"},\"colorscale\":[[0.0,\"#0d0887\"],[0.1111111111111111,\"#46039f\"],[0.2222222222222222,\"#7201a8\"],[0.3333333333333333,\"#9c179e\"],[0.4444444444444444,\"#bd3786\"],[0.5555555555555556,\"#d8576b\"],[0.6666666666666666,\"#ed7953\"],[0.7777777777777778,\"#fb9f3a\"],[0.8888888888888888,\"#fdca26\"],[1.0,\"#f0f921\"]]}],\"choropleth\":[{\"type\":\"choropleth\",\"colorbar\":{\"outlinewidth\":0,\"ticks\":\"\"}}],\"histogram2d\":[{\"type\":\"histogram2d\",\"colorbar\":{\"outlinewidth\":0,\"ticks\":\"\"},\"colorscale\":[[0.0,\"#0d0887\"],[0.1111111111111111,\"#46039f\"],[0.2222222222222222,\"#7201a8\"],[0.3333333333333333,\"#9c179e\"],[0.4444444444444444,\"#bd3786\"],[0.5555555555555556,\"#d8576b\"],[0.6666666666666666,\"#ed7953\"],[0.7777777777777778,\"#fb9f3a\"],[0.8888888888888888,\"#fdca26\"],[1.0,\"#f0f921\"]]}],\"heatmap\":[{\"type\":\"heatmap\",\"colorbar\":{\"outlinewidth\":0,\"ticks\":\"\"},\"colorscale\":[[0.0,\"#0d0887\"],[0.1111111111111111,\"#46039f\"],[0.2222222222222222,\"#7201a8\"],[0.3333333333333333,\"#9c179e\"],[0.4444444444444444,\"#bd3786\"],[0.5555555555555556,\"#d8576b\"],[0.6666666666666666,\"#ed7953\"],[0.7777777777777778,\"#fb9f3a\"],[0.8888888888888888,\"#fdca26\"],[1.0,\"#f0f921\"]]}],\"heatmapgl\":[{\"type\":\"heatmapgl\",\"colorbar\":{\"outlinewidth\":0,\"ticks\":\"\"},\"colorscale\":[[0.0,\"#0d0887\"],[0.1111111111111111,\"#46039f\"],[0.2222222222222222,\"#7201a8\"],[0.3333333333333333,\"#9c179e\"],[0.4444444444444444,\"#bd3786\"],[0.5555555555555556,\"#d8576b\"],[0.6666666666666666,\"#ed7953\"],[0.7777777777777778,\"#fb9f3a\"],[0.8888888888888888,\"#fdca26\"],[1.0,\"#f0f921\"]]}],\"contourcarpet\":[{\"type\":\"contourcarpet\",\"colorbar\":{\"outlinewidth\":0,\"ticks\":\"\"}}],\"contour\":[{\"type\":\"contour\",\"colorbar\":{\"outlinewidth\":0,\"ticks\":\"\"},\"colorscale\":[[0.0,\"#0d0887\"],[0.1111111111111111,\"#46039f\"],[0.2222222222222222,\"#7201a8\"],[0.3333333333333333,\"#9c179e\"],[0.4444444444444444,\"#bd3786\"],[0.5555555555555556,\"#d8576b\"],[0.6666666666666666,\"#ed7953\"],[0.7777777777777778,\"#fb9f3a\"],[0.8888888888888888,\"#fdca26\"],[1.0,\"#f0f921\"]]}],\"surface\":[{\"type\":\"surface\",\"colorbar\":{\"outlinewidth\":0,\"ticks\":\"\"},\"colorscale\":[[0.0,\"#0d0887\"],[0.1111111111111111,\"#46039f\"],[0.2222222222222222,\"#7201a8\"],[0.3333333333333333,\"#9c179e\"],[0.4444444444444444,\"#bd3786\"],[0.5555555555555556,\"#d8576b\"],[0.6666666666666666,\"#ed7953\"],[0.7777777777777778,\"#fb9f3a\"],[0.8888888888888888,\"#fdca26\"],[1.0,\"#f0f921\"]]}],\"mesh3d\":[{\"type\":\"mesh3d\",\"colorbar\":{\"outlinewidth\":0,\"ticks\":\"\"}}],\"scatter\":[{\"fillpattern\":{\"fillmode\":\"overlay\",\"size\":10,\"solidity\":0.2},\"type\":\"scatter\"}],\"parcoords\":[{\"type\":\"parcoords\",\"line\":{\"colorbar\":{\"outlinewidth\":0,\"ticks\":\"\"}}}],\"scatterpolargl\":[{\"type\":\"scatterpolargl\",\"marker\":{\"colorbar\":{\"outlinewidth\":0,\"ticks\":\"\"}}}],\"bar\":[{\"error_x\":{\"color\":\"#2a3f5f\"},\"error_y\":{\"color\":\"#2a3f5f\"},\"marker\":{\"line\":{\"color\":\"#E5ECF6\",\"width\":0.5},\"pattern\":{\"fillmode\":\"overlay\",\"size\":10,\"solidity\":0.2}},\"type\":\"bar\"}],\"scattergeo\":[{\"type\":\"scattergeo\",\"marker\":{\"colorbar\":{\"outlinewidth\":0,\"ticks\":\"\"}}}],\"scatterpolar\":[{\"type\":\"scatterpolar\",\"marker\":{\"colorbar\":{\"outlinewidth\":0,\"ticks\":\"\"}}}],\"histogram\":[{\"marker\":{\"pattern\":{\"fillmode\":\"overlay\",\"size\":10,\"solidity\":0.2}},\"type\":\"histogram\"}],\"scattergl\":[{\"type\":\"scattergl\",\"marker\":{\"colorbar\":{\"outlinewidth\":0,\"ticks\":\"\"}}}],\"scatter3d\":[{\"type\":\"scatter3d\",\"line\":{\"colorbar\":{\"outlinewidth\":0,\"ticks\":\"\"}},\"marker\":{\"colorbar\":{\"outlinewidth\":0,\"ticks\":\"\"}}}],\"scattermapbox\":[{\"type\":\"scattermapbox\",\"marker\":{\"colorbar\":{\"outlinewidth\":0,\"ticks\":\"\"}}}],\"scatterternary\":[{\"type\":\"scatterternary\",\"marker\":{\"colorbar\":{\"outlinewidth\":0,\"ticks\":\"\"}}}],\"scattercarpet\":[{\"type\":\"scattercarpet\",\"marker\":{\"colorbar\":{\"outlinewidth\":0,\"ticks\":\"\"}}}],\"carpet\":[{\"aaxis\":{\"endlinecolor\":\"#2a3f5f\",\"gridcolor\":\"white\",\"linecolor\":\"white\",\"minorgridcolor\":\"white\",\"startlinecolor\":\"#2a3f5f\"},\"baxis\":{\"endlinecolor\":\"#2a3f5f\",\"gridcolor\":\"white\",\"linecolor\":\"white\",\"minorgridcolor\":\"white\",\"startlinecolor\":\"#2a3f5f\"},\"type\":\"carpet\"}],\"table\":[{\"cells\":{\"fill\":{\"color\":\"#EBF0F8\"},\"line\":{\"color\":\"white\"}},\"header\":{\"fill\":{\"color\":\"#C8D4E3\"},\"line\":{\"color\":\"white\"}},\"type\":\"table\"}],\"barpolar\":[{\"marker\":{\"line\":{\"color\":\"#E5ECF6\",\"width\":0.5},\"pattern\":{\"fillmode\":\"overlay\",\"size\":10,\"solidity\":0.2}},\"type\":\"barpolar\"}],\"pie\":[{\"automargin\":true,\"type\":\"pie\"}]},\"layout\":{\"autotypenumbers\":\"strict\",\"colorway\":[\"#636efa\",\"#EF553B\",\"#00cc96\",\"#ab63fa\",\"#FFA15A\",\"#19d3f3\",\"#FF6692\",\"#B6E880\",\"#FF97FF\",\"#FECB52\"],\"font\":{\"color\":\"#2a3f5f\"},\"hovermode\":\"closest\",\"hoverlabel\":{\"align\":\"left\"},\"paper_bgcolor\":\"white\",\"plot_bgcolor\":\"#E5ECF6\",\"polar\":{\"bgcolor\":\"#E5ECF6\",\"angularaxis\":{\"gridcolor\":\"white\",\"linecolor\":\"white\",\"ticks\":\"\"},\"radialaxis\":{\"gridcolor\":\"white\",\"linecolor\":\"white\",\"ticks\":\"\"}},\"ternary\":{\"bgcolor\":\"#E5ECF6\",\"aaxis\":{\"gridcolor\":\"white\",\"linecolor\":\"white\",\"ticks\":\"\"},\"baxis\":{\"gridcolor\":\"white\",\"linecolor\":\"white\",\"ticks\":\"\"},\"caxis\":{\"gridcolor\":\"white\",\"linecolor\":\"white\",\"ticks\":\"\"}},\"coloraxis\":{\"colorbar\":{\"outlinewidth\":0,\"ticks\":\"\"}},\"colorscale\":{\"sequential\":[[0.0,\"#0d0887\"],[0.1111111111111111,\"#46039f\"],[0.2222222222222222,\"#7201a8\"],[0.3333333333333333,\"#9c179e\"],[0.4444444444444444,\"#bd3786\"],[0.5555555555555556,\"#d8576b\"],[0.6666666666666666,\"#ed7953\"],[0.7777777777777778,\"#fb9f3a\"],[0.8888888888888888,\"#fdca26\"],[1.0,\"#f0f921\"]],\"sequentialminus\":[[0.0,\"#0d0887\"],[0.1111111111111111,\"#46039f\"],[0.2222222222222222,\"#7201a8\"],[0.3333333333333333,\"#9c179e\"],[0.4444444444444444,\"#bd3786\"],[0.5555555555555556,\"#d8576b\"],[0.6666666666666666,\"#ed7953\"],[0.7777777777777778,\"#fb9f3a\"],[0.8888888888888888,\"#fdca26\"],[1.0,\"#f0f921\"]],\"diverging\":[[0,\"#8e0152\"],[0.1,\"#c51b7d\"],[0.2,\"#de77ae\"],[0.3,\"#f1b6da\"],[0.4,\"#fde0ef\"],[0.5,\"#f7f7f7\"],[0.6,\"#e6f5d0\"],[0.7,\"#b8e186\"],[0.8,\"#7fbc41\"],[0.9,\"#4d9221\"],[1,\"#276419\"]]},\"xaxis\":{\"gridcolor\":\"white\",\"linecolor\":\"white\",\"ticks\":\"\",\"title\":{\"standoff\":15},\"zerolinecolor\":\"white\",\"automargin\":true,\"zerolinewidth\":2},\"yaxis\":{\"gridcolor\":\"white\",\"linecolor\":\"white\",\"ticks\":\"\",\"title\":{\"standoff\":15},\"zerolinecolor\":\"white\",\"automargin\":true,\"zerolinewidth\":2},\"scene\":{\"xaxis\":{\"backgroundcolor\":\"#E5ECF6\",\"gridcolor\":\"white\",\"linecolor\":\"white\",\"showbackground\":true,\"ticks\":\"\",\"zerolinecolor\":\"white\",\"gridwidth\":2},\"yaxis\":{\"backgroundcolor\":\"#E5ECF6\",\"gridcolor\":\"white\",\"linecolor\":\"white\",\"showbackground\":true,\"ticks\":\"\",\"zerolinecolor\":\"white\",\"gridwidth\":2},\"zaxis\":{\"backgroundcolor\":\"#E5ECF6\",\"gridcolor\":\"white\",\"linecolor\":\"white\",\"showbackground\":true,\"ticks\":\"\",\"zerolinecolor\":\"white\",\"gridwidth\":2}},\"shapedefaults\":{\"line\":{\"color\":\"#2a3f5f\"}},\"annotationdefaults\":{\"arrowcolor\":\"#2a3f5f\",\"arrowhead\":0,\"arrowwidth\":1},\"geo\":{\"bgcolor\":\"white\",\"landcolor\":\"#E5ECF6\",\"subunitcolor\":\"white\",\"showland\":true,\"showlakes\":true,\"lakecolor\":\"white\"},\"title\":{\"x\":0.05},\"mapbox\":{\"style\":\"light\"}}},\"xaxis\":{\"anchor\":\"y\",\"domain\":[0.0,1.0],\"scaleanchor\":\"y\",\"constrain\":\"domain\"},\"yaxis\":{\"anchor\":\"x\",\"domain\":[0.0,1.0],\"autorange\":\"reversed\",\"constrain\":\"domain\"},\"coloraxis\":{\"colorscale\":[[0.0,\"#0d0887\"],[0.1111111111111111,\"#46039f\"],[0.2222222222222222,\"#7201a8\"],[0.3333333333333333,\"#9c179e\"],[0.4444444444444444,\"#bd3786\"],[0.5555555555555556,\"#d8576b\"],[0.6666666666666666,\"#ed7953\"],[0.7777777777777778,\"#fb9f3a\"],[0.8888888888888888,\"#fdca26\"],[1.0,\"#f0f921\"]]},\"title\":{\"text\":\"Example 3: Correlation matrix displayed as heatmap for quicker detection of correlations between variables\"}},                        {\"responsive\": true}                    ).then(function(){\n",
       "                            \n",
       "var gd = document.getElementById('85f151d7-0d9e-47d4-b9d4-03418f89b3f7');\n",
       "var x = new MutationObserver(function (mutations, observer) {{\n",
       "        var display = window.getComputedStyle(gd).display;\n",
       "        if (!display || display === 'none') {{\n",
       "            console.log([gd, 'removed!']);\n",
       "            Plotly.purge(gd);\n",
       "            observer.disconnect();\n",
       "        }}\n",
       "}});\n",
       "\n",
       "// Listen for the removal of the full notebook cells\n",
       "var notebookContainer = gd.closest('#notebook-container');\n",
       "if (notebookContainer) {{\n",
       "    x.observe(notebookContainer, {childList: true});\n",
       "}}\n",
       "\n",
       "// Listen for the clearing of the current output cell\n",
       "var outputEl = gd.closest('.output');\n",
       "if (outputEl) {{\n",
       "    x.observe(outputEl, {childList: true});\n",
       "}}\n",
       "\n",
       "                        })                };                });            </script>        </div>"
      ]
     },
     "metadata": {},
     "output_type": "display_data"
    }
   ],
   "source": [
    "px.imshow(correlation_matrix, title = \"Example 3: Correlation matrix displayed as heatmap for quicker detection of correlations between variables\")"
   ]
  },
  {
   "cell_type": "code",
   "execution_count": null,
   "metadata": {},
   "outputs": [],
   "source": []
  }
 ],
 "metadata": {
  "kernelspec": {
   "display_name": "Python 3",
   "language": "python",
   "name": "python3"
  },
  "language_info": {
   "codemirror_mode": {
    "name": "ipython",
    "version": 3
   },
   "file_extension": ".py",
   "mimetype": "text/x-python",
   "name": "python",
   "nbconvert_exporter": "python",
   "pygments_lexer": "ipython3",
   "version": "3.8.3"
  }
 },
 "nbformat": 4,
 "nbformat_minor": 4
}
